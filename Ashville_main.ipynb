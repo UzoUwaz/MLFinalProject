{
  "cells": [
    {
      "cell_type": "code",
      "execution_count": 1,
      "metadata": {
        "colab": {
          "base_uri": "https://localhost:8080/"
        },
        "id": "iroeMgwk3hoc",
        "outputId": "e991cf49-c125-4e6d-89b5-3d8e715c3d4d"
      },
      "outputs": [
        {
          "output_type": "stream",
          "name": "stdout",
          "text": [
            "Mounted at /content/drive/\n"
          ]
        }
      ],
      "source": [
        "import pandas as pd\n",
        "import numpy as np\n",
        "import math\n",
        "\n",
        "# Mount to google drive\n",
        "from google.colab import drive\n",
        "drive.mount('/content/drive/')\n",
        "import os\n",
        "os.chdir(r'/content/drive/My Drive/Colab Notebooks/ids705/project')\n",
        "\n",
        "# from ydata_profiling import ProfileReport\n",
        "\n",
        "from sklearn.preprocessing import LabelEncoder\n",
        "from sklearn.feature_extraction.text import TfidfVectorizer\n",
        "\n",
        "import re\n",
        "\n",
        "import matplotlib.pyplot as plt\n",
        "import seaborn as sns"
      ]
    },
    {
      "cell_type": "markdown",
      "metadata": {
        "id": "nCxz8qRZ3hoc"
      },
      "source": [
        "# EDA\n",
        "\n",
        "## possible feature engineering\n",
        "- combine `longitude` and `latitude` by haversine since either of them alone could represent location\n",
        "- `reviews_per month` has too many missing values and most of them are zero (i.e., no reviews), consider to **drop**\n",
        "- `property_type` and `room_type` has similarities\n",
        "- response variables is somewhat evenly distributed among bins\n",
        "- calculated_... can use with room_type, property_type to determine the house type\n",
        "- bathroom_text can be represented by room_type, maybe I can calculate % accomendates vs. bathroom#\n",
        "- availability concatenates to 1 variable\n",
        "- `has_review` indicates whether or not it has reviews\n",
        "- investigate `amenities` and `reviews`\n",
        "\n",
        "## variables considered to include\n",
        "\n",
        "host_acceptance_rate, haversine_location, accomendates,"
      ]
    },
    {
      "cell_type": "code",
      "execution_count": 2,
      "metadata": {
        "id": "K7mxCAO03hod"
      },
      "outputs": [],
      "source": [
        "data = pd.read_csv(\"data/Asheville_listings_cleaned.csv\")\n",
        "# test = pd.read_csv(\"data/test.csv\")\n",
        "# data = pd.concat([train, test]).reset_index(drop=True)\n",
        "# Split to train and test\n",
        "from sklearn.model_selection import train_test_split\n",
        "train, test = train_test_split(data, test_size=0.2, random_state=42)\n",
        "train = train.reset_index(drop=True)\n",
        "test = test.reset_index(drop=True)"
      ]
    },
    {
      "cell_type": "code",
      "execution_count": 3,
      "metadata": {
        "id": "UvX79gff3hod"
      },
      "outputs": [],
      "source": [
        "# Access profile report\n",
        "# profile = ProfileReport(train, title=\"profile_report\")\n",
        "# profile.to_file(\"profile_report.pdf\")"
      ]
    },
    {
      "cell_type": "code",
      "execution_count": 4,
      "metadata": {
        "colab": {
          "base_uri": "https://localhost:8080/"
        },
        "id": "9vrV2z7s3owj",
        "outputId": "2d2b6ab1-9640-4b3f-c4e6-da086e0ebdd9"
      },
      "outputs": [
        {
          "output_type": "execute_result",
          "data": {
            "text/plain": [
              "Index(['description', 'neighbourhood_group_cleansed', 'host_response_time',\n",
              "       'host_response_rate', 'host_acceptance_rate', 'host_is_superhost',\n",
              "       'bathrooms', 'bedrooms', 'beds', 'has_availability', 'first_review',\n",
              "       'last_review', 'review_scores_rating', 'review_scores_accuracy',\n",
              "       'review_scores_cleanliness', 'review_scores_checkin',\n",
              "       'review_scores_communication', 'review_scores_location',\n",
              "       'review_scores_value', 'reviews_per_month'],\n",
              "      dtype='object')"
            ]
          },
          "metadata": {},
          "execution_count": 4
        }
      ],
      "source": [
        "# prompt: show which columns are missing values in data\n",
        "\n",
        "# Identify columns with missing values\n",
        "missing_cols = train.columns[train.isnull().any()]\n",
        "\n",
        "# Print the columns with missing values\n",
        "missing_cols\n"
      ]
    },
    {
      "cell_type": "code",
      "execution_count": 5,
      "metadata": {
        "colab": {
          "base_uri": "https://localhost:8080/"
        },
        "id": "ct8fr9wo3hod",
        "outputId": "da1950e0-13d4-468a-e09d-2f25ac32da0e"
      },
      "outputs": [
        {
          "output_type": "execute_result",
          "data": {
            "text/plain": [
              "Index(['name', 'description', 'property_type', 'price',\n",
              "       'neighbourhood_cleansed', 'neighbourhood_group_cleansed', 'latitude',\n",
              "       'longitude', 'host_since', 'host_response_time', 'host_response_rate',\n",
              "       'host_acceptance_rate', 'host_is_superhost', 'host_listings_count',\n",
              "       'host_total_listings_count', 'host_verifications',\n",
              "       'host_has_profile_pic', 'host_identity_verified',\n",
              "       'calculated_host_listings_count',\n",
              "       'calculated_host_listings_count_entire_homes',\n",
              "       'calculated_host_listings_count_private_rooms',\n",
              "       'calculated_host_listings_count_shared_rooms', 'room_type',\n",
              "       'accommodates', 'bathrooms', 'bathrooms_text', 'bedrooms', 'beds',\n",
              "       'amenities', 'has_availability', 'availability_30', 'availability_60',\n",
              "       'availability_90', 'availability_365', 'instant_bookable',\n",
              "       'minimum_nights', 'maximum_nights', 'number_of_reviews',\n",
              "       'number_of_reviews_ltm', 'number_of_reviews_l30d', 'first_review',\n",
              "       'last_review', 'review_scores_rating', 'review_scores_accuracy',\n",
              "       'review_scores_cleanliness', 'review_scores_checkin',\n",
              "       'review_scores_communication', 'review_scores_location',\n",
              "       'review_scores_value', 'reviews_per_month', 'reviews'],\n",
              "      dtype='object')"
            ]
          },
          "metadata": {},
          "execution_count": 5
        }
      ],
      "source": [
        "test.columns"
      ]
    },
    {
      "cell_type": "code",
      "execution_count": 6,
      "metadata": {
        "colab": {
          "base_uri": "https://localhost:8080/"
        },
        "id": "yJvaSISe-m6-",
        "outputId": "5b63dc5c-fdd3-40b7-b4ec-f02c2ee78782"
      },
      "outputs": [
        {
          "output_type": "execute_result",
          "data": {
            "text/plain": [
              "(2327, 51)"
            ]
          },
          "metadata": {},
          "execution_count": 6
        }
      ],
      "source": [
        "train.shape"
      ]
    },
    {
      "cell_type": "markdown",
      "metadata": {
        "id": "kxd9w8wa3hod"
      },
      "source": [
        "## text variables"
      ]
    },
    {
      "cell_type": "markdown",
      "metadata": {
        "id": "j5SvH9Aa3hod"
      },
      "source": [
        "### amenities"
      ]
    },
    {
      "cell_type": "code",
      "execution_count": 7,
      "metadata": {
        "colab": {
          "base_uri": "https://localhost:8080/"
        },
        "id": "k362bSOF3hoe",
        "outputId": "94489b5c-8007-42ce-89ce-e805ba32576e"
      },
      "outputs": [
        {
          "output_type": "stream",
          "name": "stdout",
          "text": [
            "0       [beekman 1802 hotel collection body soap body ...\n",
            "1       [dishes silverware, paid parking garage off pr...\n",
            "2       [iron, free parking premises 1 space, roomdark...\n",
            "3       [clothing storage closet dresser, 48 inch hdtv...\n",
            "4       [clothing storage closet dresser, dishes silve...\n",
            "                              ...                        \n",
            "2322    [clothing storage closet dresser, dishes silve...\n",
            "2323    [high chair, dishes silverware, whirlpool stai...\n",
            "2324    [self checkin, heating, hot water, shower gel,...\n",
            "2325    [dishes silverware, baby safety gates, body so...\n",
            "2326    [dishes silverware, body soap, tv, wine glasse...\n",
            "Name: amenities_clean, Length: 2327, dtype: object\n"
          ]
        }
      ],
      "source": [
        "# amenities\n",
        "## clean\n",
        "import ast\n",
        "freq_words = ['you', 'on', 'and', 'the', 'or', 'n', 'for', 'with', 'in', 'at']\n",
        "\n",
        "def clean_amenities(amenities_str):\n",
        "    try:\n",
        "        amenities_lst = ast.literal_eval(amenities_str)\n",
        "    except:\n",
        "        amenities_lst = []\n",
        "    amenities_clean = []\n",
        "    for amenity in amenities_lst:\n",
        "        # remove special characters and extra spaces\n",
        "        # e.g., Wi-Fi vs. wifi\n",
        "        amenity_clean = re.sub(r'[^A-Za-z0-9\\s]', '', amenity.lower().strip())\n",
        "        # Remove freq_words using regex\n",
        "        pattern = r'\\b(?:' + '|'.join(re.escape(word) for word in freq_words) + r')\\b'\n",
        "        amenity_clean = re.sub(pattern, '', amenity_clean)\n",
        "        # turn air conditioning to ac\n",
        "        amenity_clean = amenity_clean.replace('air conditioning', 'ac')\n",
        "        # Remove extra spaces\n",
        "        amenity_clean = re.sub(r'\\s+', ' ', amenity_clean).strip()\n",
        "        amenities_clean.append(amenity_clean)\n",
        "    return amenities_clean\n",
        "\n",
        "train['amenities_clean'] = train['amenities'].apply(clean_amenities)\n",
        "test['amenities_clean'] = test['amenities'].apply(clean_amenities)\n",
        "print(train['amenities_clean'])\n",
        "\n",
        "# amenities count\n",
        "train['amenities_cnt'] = train['amenities_clean'].apply(lambda x: len(x))\n",
        "test['amenities_cnt'] = test['amenities_clean'].apply(lambda x: len(x))\n"
      ]
    },
    {
      "cell_type": "code",
      "execution_count": 9,
      "metadata": {
        "colab": {
          "base_uri": "https://localhost:8080/",
          "height": 431
        },
        "id": "HM7Tok6z3hoe",
        "outputId": "e8cc97d9-1ba1-4ba9-97ec-7c3144e612c5"
      },
      "outputs": [
        {
          "output_type": "display_data",
          "data": {
            "text/plain": [
              "<Figure size 1000x600 with 1 Axes>"
            ],
            "image/png": "[encoded data removed]"
          },
          "metadata": {}
        }
      ],
      "source": [
        "plt.figure(figsize=(10, 6))\n",
        "sns.boxplot(x='price', y='amenities_cnt', data=train)\n",
        "plt.title('Price Distribution for Number of Amenities')\n",
        "plt.xlabel('Price')\n",
        "plt.ylabel('Number of Amenities')\n",
        "plt.show()"
      ]
    },
    {
      "cell_type": "markdown",
      "metadata": {
        "id": "VBJN4wBX3hoe"
      },
      "source": [
        "#### LDA\n",
        "try topic modeling (but the clustering does not make sense)"
      ]
    },
    {
      "cell_type": "code",
      "execution_count": 10,
      "metadata": {
        "id": "beW4rApX3hoe"
      },
      "outputs": [],
      "source": [
        "# from sklearn.feature_extraction.text import CountVectorizer\n",
        "\n",
        "# # Join amenities into a single string per listing\n",
        "# train['amenities_str'] = train['amenities_clean'].apply(lambda x: ' '.join(x))\n",
        "# test['amenities_str'] = test['amenities_clean'].apply(lambda x: ' '.join(x))\n",
        "\n",
        "# from sklearn.feature_extraction.text import TfidfVectorizer\n",
        "# from sklearn.decomposition import NMF\n",
        "# from sklearn.decomposition import LatentDirichletAllocation\n",
        "\n",
        "# # Use TF-IDF features\n",
        "# tfidf_vectorizer = TfidfVectorizer()\n",
        "# tfidf_train = tfidf_vectorizer.fit_transform(train['amenities_str'])\n",
        "# tfidf_test = tfidf_vectorizer.transform(test['amenities_str'])\n",
        "\n",
        "# # Use count features\n",
        "# vectorizer = CountVectorizer()\n",
        "# dtm = vectorizer.fit_transform(train['amenities_str'])\n",
        "# # filter out the count <= 30\n",
        "# dtm_df = pd.DataFrame(dtm.toarray(), columns=vectorizer.get_feature_names_out())\n",
        "# mask = ~dtm_df.columns.str.match(r'^\\d+$')\n",
        "# dtm_df = dtm_df.loc[:, mask]\n",
        "# amenities_sum = dtm_df.sum(axis=0)\n",
        "# dtm_df = dtm_df.loc[:, amenities_sum[amenities_sum>30].index.tolist()]\n",
        "# filtered_amenities = dtm_df.columns.tolist()\n",
        "\n",
        "# # convert to df\n",
        "# tfidf_train_df = pd.DataFrame(tfidf_train.toarray(), columns=tfidf_vectorizer.get_feature_names_out()).reindex(columns=filtered_amenities).fillna(0)\n",
        "# tfidf_test_df = pd.DataFrame(tfidf_test.toarray(), columns=tfidf_vectorizer.get_feature_names_out()).reindex(columns=filtered_amenities).fillna(0)\n",
        "\n",
        "# # # Create the document-term matrix\n",
        "# # # vectorizer = CountVectorizer()\n",
        "# # # dtm = vectorizer.fit_transform(train['amenities_str'])\n",
        "\n",
        "# # # remove infrequent features, remove numeric features\n",
        "# # dtm_df = pd.DataFrame(dtm.toarray(), columns=vectorizer.get_feature_names_out())\n",
        "# # dtm_test_df = pd.DataFrame(dtm_test.toarray(), columns=vectorizer.get_feature_names_out())\n",
        "\n",
        "# mask = ~dtm_df.columns.str.match(r'^\\d+$')\n",
        "# dtm_df = dtm_df.loc[:, mask]\n",
        "# dtm_test_df = dtm_test_df.loc[:, mask]\n",
        "\n",
        "# amenities_sum = dtm_df.sum(axis=0)\n",
        "# dtm_df = dtm_df.loc[:, amenities_sum[amenities_sum>30].index.tolist()]\n",
        "# amenities_sum = dtm_test_df.sum(axis=0)\n",
        "# dtm_test_df = dtm_test_df.loc[:, amenities_sum[amenities_sum>30].index.tolist()]\n",
        "# # # drop unknown columns in test\n",
        "# # dtm_test_df = dtm_test_df[dtm_test_df.columns.isin(dtm_df.columns)]\n",
        "\n",
        "# columns_df1 = dtm_df.columns.tolist()\n",
        "\n",
        "# Create a new DataFrame (filtered_df2) with the same columns as df1\n",
        "# dtm_test_df = dtm_test_df.reindex(columns=columns_df1).fillna(0)\n",
        "\n",
        "# put in NMF\n",
        "# Fit the NMF model\n",
        "# n_topics = 10\n",
        "# topic_model = NMF(n_components=n_topics, random_state=42)\n",
        "# # topic_model = LatentDirichletAllocation(n_components=n_topics, random_state=42)\n",
        "\n",
        "# amentities_topics_train = topic_model.fit_transform(tfidf_train_df)\n",
        "# amenities_topics_train_df = pd.DataFrame(amentities_topics_train, columns=[f'amenity_topic_{i}' for i in range(n_topics)])\n",
        "# amentities_topics_test = topic_model.transform(tfidf_test_df)\n",
        "# amenities_topics_test_df = pd.DataFrame(amentities_topics_test, columns=[f'amenity_topic_{i}' for i in range(n_topics)])\n",
        "# # Display the topics\n",
        "# def display_topics(model, feature_names, num_top_words):\n",
        "#     for topic_idx, topic in enumerate(model.components_):\n",
        "#         message = f\"Topic {topic_idx}: \"\n",
        "#         message += \", \".join([feature_names[i] for i in topic.argsort()[:-num_top_words - 1:-1]])\n",
        "#         print(message)\n",
        "# display_topics(topic_model, filtered_amenities, n_topics)\n"
      ]
    },
    {
      "cell_type": "markdown",
      "metadata": {
        "id": "rCH98kMr3hoe"
      },
      "source": [
        "#### word2vec"
      ]
    },
    {
      "cell_type": "code",
      "execution_count": 11,
      "metadata": {
        "id": "BdVLnRms3hoe"
      },
      "outputs": [],
      "source": [
        "# from gensim.models import Word2Vec\n",
        "\n",
        "# # Prepare sentences (each listing's amenities as a sentence)\n",
        "# sentences = data['amenities_clean'].tolist()\n",
        "\n",
        "# # Train Word2Vec model\n",
        "# w2v_model = Word2Vec(sentences, vector_size=50, window=5, min_count=1, workers=4)\n",
        "\n",
        "# # Get embeddings for amenities\n",
        "# amenity_embeddings = {amenity: w2v_model.wv[amenity] for amenity in w2v_model.wv.index_to_key}\n",
        "\n",
        "# # Cluster embeddings\n",
        "# from sklearn.cluster import KMeans\n",
        "\n",
        "# amenity_vectors = list(amenity_embeddings.values())\n",
        "# kmeans = KMeans(n_clusters=7, random_state=42)\n",
        "# kmeans.fit(amenity_vectors)\n",
        "\n",
        "# # Map amenities to clusters\n",
        "# amenity_to_cluster = dict(zip(amenity_embeddings.keys(), kmeans.labels_))\n"
      ]
    },
    {
      "cell_type": "code",
      "execution_count": 12,
      "metadata": {
        "id": "fJMOBkWb3hoe"
      },
      "outputs": [],
      "source": [
        "# amenity_to_cluster"
      ]
    },
    {
      "cell_type": "markdown",
      "metadata": {
        "id": "6bDq8RGB3hoe"
      },
      "source": [
        "#### manual mapping"
      ]
    },
    {
      "cell_type": "code",
      "execution_count": 13,
      "metadata": {
        "id": "kV1VxA8K3hoe"
      },
      "outputs": [],
      "source": [
        "amenity_topics = {\n",
        "    \"Kitchen Supplies\": [\n",
        "        \"kettle\", \"coffee machine\", \"coffee maker\", \"microwave\", \"oven\", \"stove\",\n",
        "        \"refrigerator\", \"dishwasher\", \"cooking basics\", \"pots\", \"pans\", \"dishes\", \"silverware\",\n",
        "        \"toaster\", \"blender\", \"cooker\", \"fridge\"\n",
        "    ],\n",
        "    \"House Infrastructure\": [\n",
        "        \"hot water\", \"ac\", \"heating\", \"dryer\", \"fireplace\", \"wifi\", \"crib\",\n",
        "        \"ceiling fan\", \"iron\", \"hair dryer\", \"pillows\", \"blankets\", \"room-darkening shades\",\n",
        "        \"essential toiletries\", \"private entrance\"\n",
        "    ],\n",
        "    \"Entertainment\": [\n",
        "        \"tv\", \"streaming services\", \"game console\", \"books\", \"board games\",\n",
        "        \"DVD player\"\n",
        "    ],\n",
        "    \"Safety Features\": [\n",
        "        \"smoke alarm\", \"carbon monoxide alarm\", \"first aid kit\", \"fire extinguisher\",\n",
        "        \"security cameras\", \"lock on bedroom door\", \"safe\", \"emergency exit\", \"fire blanket\"\n",
        "    ],\n",
        "    \"Outdoor Amenities\": [\n",
        "        \"balcony\", \"patio\", \"garden\", \"backyard\", \"bbq\", \"outdoor\",\n",
        "        \"beach access\", \"lake access\", \"hammock\", \"rooftop\"\n",
        "    ],\n",
        "    \"Luxury Amenities\": [\n",
        "        \"tub\", \"pool\", \"sauna\", \"gym\", \"jacuzzi\", \"spa\", \"wine cooler\", \"dyson\", \"bosche\", \"sound system\",\n",
        "        \"butler service\", \"massage\", \"heated floors\", \"fitness\", \"yoga\", \"piano\", \"record player\", \"karaoke machine\"\n",
        "    ],\n",
        "    \"Family-Friendly Amenities\": [\n",
        "        \"children's books and toys\", \"baby\", \"pet\",\n",
        "        \"stroller\", \"babysitter\", \"pet\"\n",
        "    ]\n",
        "}\n",
        "\n",
        "def map_amenities_to_topics(amenities_list):\n",
        "    topic_counts = {topic: 0 for topic in amenity_topics.keys()}\n",
        "    for amenity in amenities_list:\n",
        "        for topic, amenities in amenity_topics.items():\n",
        "            if amenity in amenities:\n",
        "                topic_counts[topic] += 1\n",
        "    return topic_counts\n",
        "\n",
        "train['topics_cnt_dict']= train['amenities_clean'].apply(map_amenities_to_topics)\n",
        "test['topics_cnt_dict']= test['amenities_clean'].apply(map_amenities_to_topics)\n",
        "train = pd.concat([train.drop('topics_cnt_dict', axis=1), pd.DataFrame(train['topics_cnt_dict'].tolist())], axis=1)\n",
        "test = pd.concat([test.drop('topics_cnt_dict', axis=1), pd.DataFrame(test['topics_cnt_dict'].tolist())], axis=1)\n"
      ]
    },
    {
      "cell_type": "markdown",
      "metadata": {
        "id": "isatQtsV3hoe"
      },
      "source": [
        "## description"
      ]
    },
    {
      "cell_type": "code",
      "execution_count": 14,
      "metadata": {
        "id": "OK0rZMJM3hoe"
      },
      "outputs": [],
      "source": [
        "# import matplotlib.pyplot as plt\n",
        "\n",
        "# plt.figure(figsize=(10, 6))\n",
        "# plt.hist(train.loc[train['description'].isna(), 'price'], bins=6, edgecolor='black')\n",
        "# plt.title('Price Distribution for Listings with No Description')\n",
        "# plt.xlabel('Price')\n",
        "# plt.ylabel('Frequency')\n",
        "# plt.show()"
      ]
    },
    {
      "cell_type": "code",
      "execution_count": 15,
      "metadata": {
        "id": "adWQ_yPD3hoe"
      },
      "outputs": [],
      "source": [
        "def clean_description(des):\n",
        "\n",
        "    pattern = r'[-&]|\\b(and|or)\\b'\n",
        "\n",
        "    if des is np.nan:\n",
        "        des = ''\n",
        "    else:\n",
        "        des = re.sub(pattern, '', des, flags=re.IGNORECASE).lower().strip()\n",
        "\n",
        "    return des\n",
        "\n",
        "train['description_clean'] = train['description'].apply(clean_description)\n",
        "test['description_clean'] = test['description'].apply(clean_description)\n",
        "\n",
        "train['des_len'] = train['description_clean'].apply(lambda x: len(x.split(' ')))\n",
        "test['des_len'] = test['description_clean'].apply(lambda x: len(x.split(' ')))"
      ]
    },
    {
      "cell_type": "code",
      "execution_count": 16,
      "metadata": {
        "colab": {
          "base_uri": "https://localhost:8080/",
          "height": 0
        },
        "id": "Fz7HDdwM3hoe",
        "outputId": "8a4c88c9-736d-47f1-d742-0291bfe7a087"
      },
      "outputs": [
        {
          "output_type": "display_data",
          "data": {
            "text/plain": [
              "<Figure size 1000x600 with 1 Axes>"
            ],
            "image/png": "[encoded data removed]"
          },
          "metadata": {}
        }
      ],
      "source": [
        "plt.figure(figsize=(10, 6))\n",
        "sns.boxplot(x='price', y='des_len', data=train)\n",
        "plt.title('Price Distribution for Desciption Detailness')\n",
        "plt.xlabel('Price')\n",
        "plt.ylabel('Frequency')\n",
        "plt.show()"
      ]
    },
    {
      "cell_type": "markdown",
      "metadata": {
        "id": "hjw5gK7O3hoe"
      },
      "source": [
        "## categorical variables"
      ]
    },
    {
      "cell_type": "code",
      "execution_count": 17,
      "metadata": {
        "id": "4OfE0N4L3hof"
      },
      "outputs": [],
      "source": [
        "# has_review\n",
        "train['has_review'] = 1\n",
        "test['has_review'] = 1\n",
        "\n",
        "from sklearn.preprocessing import OrdinalEncoder\n",
        "\n",
        "# label encoder neighbourhood_cleansed (217 distinct values)\n",
        "oe_neighbourhood = OrdinalEncoder(handle_unknown='use_encoded_value', unknown_value=-1)\n",
        "oe_neighbourhood.fit(train[['neighbourhood_cleansed']])\n",
        "\n",
        "# Transform both training and test data\n",
        "train['neighbourhood_cleansed_encoded'] = oe_neighbourhood.transform(train[['neighbourhood_cleansed']])\n",
        "test['neighbourhood_cleansed_encoded'] = oe_neighbourhood.transform(test[['neighbourhood_cleansed']])\n",
        "\n",
        "# label encoder neighbourhood_group_cleansed (* distinct values)\n",
        "le_group = LabelEncoder()\n",
        "train['neighbourhood_group_cleansed_encoded'] = le_group.fit_transform(train['neighbourhood_group_cleansed'])\n",
        "train.drop(['neighbourhood_cleansed', 'neighbourhood_group_cleansed'], axis=1, inplace=True)\n",
        "\n",
        "test['neighbourhood_group_cleansed_encoded'] = le_group.transform(test['neighbourhood_group_cleansed'])\n",
        "test.drop(['neighbourhood_cleansed', 'neighbourhood_group_cleansed'], axis=1, inplace=True)\n",
        "\n",
        "# room_type\n",
        "enc = LabelEncoder()\n",
        "train['room_type_encoded'] = enc.fit_transform(train['room_type'])\n",
        "test['room_type_encoded'] = enc.transform(test['room_type'])\n",
        "\n",
        "train.drop('room_type', axis=1, inplace=True)\n",
        "test.drop('room_type', axis=1, inplace=True)"
      ]
    },
    {
      "cell_type": "code",
      "execution_count": 18,
      "metadata": {
        "id": "rPAjXNMI3hof"
      },
      "outputs": [],
      "source": [
        "# property_type from 59 to 14\n",
        "def organize_property_type(prop):\n",
        "\n",
        "    prop = str(prop).lower()\n",
        "\n",
        "    # rental\n",
        "    if 'rental' in prop:\n",
        "\n",
        "        return 'rental'\n",
        "\n",
        "    # townhouse, bungalow\n",
        "    if ('townhouse' in prop) or ('cottage' in prop):\n",
        "\n",
        "        return 'townhouse'\n",
        "\n",
        "    if ('bungalow' in prop) or ('villa' in prop) or ('vacation' in prop):\n",
        "\n",
        "        return 'villa'\n",
        "\n",
        "    if 'service' in prop:\n",
        "\n",
        "        return 'serviced'\n",
        "\n",
        "    # condo\n",
        "    if 'condo' in prop:\n",
        "\n",
        "        return 'condo'\n",
        "\n",
        "    if 'loft' in prop:\n",
        "\n",
        "        return 'loft'\n",
        "\n",
        "    if 'hostel' in prop:\n",
        "\n",
        "        return 'hostel'\n",
        "\n",
        "    if ('homestay' in prop) or ('breakfast' in prop) or ('casa' in prop):\n",
        "\n",
        "        return 'homestay'\n",
        "\n",
        "    if 'tiny' in prop:\n",
        "\n",
        "        return 'tiny'\n",
        "\n",
        "    if 'guest' in prop:\n",
        "\n",
        "        return 'guesthouse'\n",
        "\n",
        "    if 'camper' in prop:\n",
        "\n",
        "        return 'camper'\n",
        "\n",
        "    if ('home' in prop) or ('entire place' in prop):\n",
        "\n",
        "        return 'home'\n",
        "\n",
        "    if ('hotel' in prop) or ('resort' in prop):\n",
        "\n",
        "        return 'hotel'\n",
        "\n",
        "    else:\n",
        "\n",
        "        return 'others'\n",
        "\n",
        "train['property_type_org'] = train['property_type'].apply(organize_property_type)\n",
        "test['property_type_org'] = test['property_type'].apply(organize_property_type)\n",
        "\n",
        "enc = OrdinalEncoder(handle_unknown='use_encoded_value', unknown_value=-1)\n",
        "train['property_type_encoded'] = enc.fit_transform(train[['property_type_org']])\n",
        "test['property_type_encoded'] = enc.transform(test[['property_type_org']])"
      ]
    },
    {
      "cell_type": "code",
      "execution_count": 19,
      "metadata": {
        "id": "K1jBKf3G3hof"
      },
      "outputs": [],
      "source": [
        "train['host_response_time'] = train['host_response_time'].fillna('unknown')\n",
        "test['host_response_time'] = test['host_response_time'].fillna('unknown')\n",
        "\n",
        "enc = LabelEncoder()\n",
        "train['host_response_time_encoded'] = enc.fit_transform(train['host_response_time'])\n",
        "test['host_response_time_encoded'] = enc.transform(test['host_response_time'])"
      ]
    },
    {
      "cell_type": "code",
      "execution_count": 20,
      "metadata": {
        "id": "NuxaXXlp3hof"
      },
      "outputs": [],
      "source": [
        "# extract if the bathroom is shared\n",
        "train['bathroom_shared'] = train['bathrooms_text'].apply(lambda x: 1 if (isinstance(x, str) and re.search('shared', x)) or (x == 0) else 0)\n",
        "test['bathroom_shared'] = test['bathrooms_text'].apply(lambda x: 1 if (isinstance(x, str) and re.search('shared', x)) or (x == 0) else 0)\n",
        "train.drop('bathrooms_text', axis=1, inplace=True)\n",
        "test.drop('bathrooms_text', axis=1, inplace=True)"
      ]
    },
    {
      "cell_type": "code",
      "execution_count": 21,
      "metadata": {
        "id": "1naNFRTY3hof"
      },
      "outputs": [],
      "source": [
        "# from sklearn.preprocessing import OneHotEncoder\n",
        "# encoder = OneHotEncoder(sparse_output=False)\n",
        "# encoder.fit(train[['room_type']])\n",
        "\n",
        "# train_encoded = encoder.transform(train[['room_type']])\n",
        "# test_encoded = encoder.transform(test[['room_type']])\n",
        "# df_train = pd.DataFrame(train_encoded, columns=encoder.get_feature_names_out())\n",
        "# df_test = pd.DataFrame(test_encoded, columns=encoder.get_feature_names_out())\n",
        "\n",
        "# # integrate the encoded\n",
        "# train = pd.concat([train, df_train], axis=1)\n",
        "# test = pd.concat([test, df_test], axis=1)"
      ]
    },
    {
      "cell_type": "code",
      "execution_count": 22,
      "metadata": {
        "id": "cU6NtUJG3hof"
      },
      "outputs": [],
      "source": [
        "# train.groupby('property_type').size().sort_values(ascending=False)"
      ]
    },
    {
      "cell_type": "code",
      "execution_count": 23,
      "metadata": {
        "colab": {
          "base_uri": "https://localhost:8080/"
        },
        "id": "tHEUdat60R5o",
        "outputId": "f2b9b9e7-8c4f-40ee-9614-6261e9b9c6f2"
      },
      "outputs": [
        {
          "output_type": "execute_result",
          "data": {
            "text/plain": [
              "(2327, 66)"
            ]
          },
          "metadata": {},
          "execution_count": 23
        }
      ],
      "source": [
        "train.shape"
      ]
    },
    {
      "cell_type": "markdown",
      "metadata": {
        "id": "jildjIST3hof"
      },
      "source": [
        "## numerical variables"
      ]
    },
    {
      "cell_type": "code",
      "execution_count": 24,
      "metadata": {
        "id": "FZEw5c9X3hof"
      },
      "outputs": [],
      "source": [
        "# How many years the host has been hosting from 2024\n",
        "train['host_years'] = train['host_since'].apply(lambda x: 2024-int(x.split('-')[0]))\n",
        "test['host_years'] = test['host_since'].apply(lambda x: 2024-int(x.split('-')[0]))\n",
        "\n",
        "# from 2008 since aribnb founded, 2008 = year 0, when is the first_review and last_review\n",
        "# fill NA with -1\n",
        "train['first_review_recalculated'] = train['first_review'].apply(lambda x: int(x.split('-')[0]) - 2008 + int(x.split('-')[1]) / 12 if isinstance(x, str) else np.nan)\n",
        "train['last_review_recalculated'] = train['last_review'].apply(lambda x: int(x.split('-')[0]) - 2008 + int(x.split('-')[1]) / 12 if isinstance(x, str) else np.nan)\n",
        "test['first_review_recalculated'] = test['first_review'].apply(lambda x: int(x.split('-')[0]) - 2008 + int(x.split('-')[1]) / 12 if isinstance(x, str) else np.nan)\n",
        "test['last_review_recalculated'] = test['last_review'].apply(lambda x: int(x.split('-')[0]) - 2008 + int(x.split('-')[1]) / 12 if isinstance(x, str) else np.nan)"
      ]
    },
    {
      "cell_type": "code",
      "execution_count": 25,
      "metadata": {
        "id": "KFvEbOFO3hof"
      },
      "outputs": [],
      "source": [
        "train['bathrooms'] = train['bathrooms'].fillna(0)\n",
        "test['bathrooms'] = test['bathrooms'].fillna(0)\n",
        "\n",
        "train['bathroom_per_accommodate'] = train['bathrooms'] / train['accommodates']\n",
        "test['bathroom_per_accommodate'] = test['bathrooms'] / test['accommodates']\n",
        "\n",
        "train['beds'] = train['beds'].fillna(0)\n",
        "test['beds'] = test['beds'].fillna(0)\n",
        "\n",
        "train['bed_per_accommodate'] = train['beds'] / train['accommodates']\n",
        "test['bed_per_accommodate'] = test['beds'] / test['accommodates']"
      ]
    },
    {
      "cell_type": "code",
      "execution_count": 26,
      "metadata": {
        "id": "E_VnAqP_3hof"
      },
      "outputs": [],
      "source": [
        "train['availability_90_ratio'] = train['availability_90']/90\n",
        "test['availability_90_ratio'] = test['availability_90']/90\n",
        "\n",
        "train['availability_30_60'] = train.apply(lambda row: row['availability_30'] / row['availability_60'] if row['availability_60']!=0 else 0, axis=1)\n",
        "test['availability_30_60'] = test.apply(lambda row: row['availability_30'] / row['availability_60'] if row['availability_60']!=0 else 0, axis=1)"
      ]
    },
    {
      "cell_type": "code",
      "execution_count": 27,
      "metadata": {
        "colab": {
          "base_uri": "https://localhost:8080/",
          "height": 458
        },
        "id": "WqM7gNKd4j3A",
        "outputId": "5f51bfab-2805-4130-9ac3-80e0be3c45d1"
      },
      "outputs": [
        {
          "output_type": "execute_result",
          "data": {
            "text/plain": [
              "0        True\n",
              "1       False\n",
              "2       False\n",
              "3        True\n",
              "4        True\n",
              "        ...  \n",
              "2322     True\n",
              "2323     True\n",
              "2324     True\n",
              "2325    False\n",
              "2326    False\n",
              "Name: host_is_superhost, Length: 2327, dtype: object"
            ],
            "text/html": [
              "<div>\n",
              "<style scoped>\n",
              "    .dataframe tbody tr th:only-of-type {\n",
              "        vertical-align: middle;\n",
              "    }\n",
              "\n",
              "    .dataframe tbody tr th {\n",
              "        vertical-align: top;\n",
              "    }\n",
              "\n",
              "    .dataframe thead th {\n",
              "        text-align: right;\n",
              "    }\n",
              "</style>\n",
              "<table border=\"1\" class=\"dataframe\">\n",
              "  <thead>\n",
              "    <tr style=\"text-align: right;\">\n",
              "      <th></th>\n",
              "      <th>host_is_superhost</th>\n",
              "    </tr>\n",
              "  </thead>\n",
              "  <tbody>\n",
              "    <tr>\n",
              "      <th>0</th>\n",
              "      <td>True</td>\n",
              "    </tr>\n",
              "    <tr>\n",
              "      <th>1</th>\n",
              "      <td>False</td>\n",
              "    </tr>\n",
              "    <tr>\n",
              "      <th>2</th>\n",
              "      <td>False</td>\n",
              "    </tr>\n",
              "    <tr>\n",
              "      <th>3</th>\n",
              "      <td>True</td>\n",
              "    </tr>\n",
              "    <tr>\n",
              "      <th>4</th>\n",
              "      <td>True</td>\n",
              "    </tr>\n",
              "    <tr>\n",
              "      <th>...</th>\n",
              "      <td>...</td>\n",
              "    </tr>\n",
              "    <tr>\n",
              "      <th>2322</th>\n",
              "      <td>True</td>\n",
              "    </tr>\n",
              "    <tr>\n",
              "      <th>2323</th>\n",
              "      <td>True</td>\n",
              "    </tr>\n",
              "    <tr>\n",
              "      <th>2324</th>\n",
              "      <td>True</td>\n",
              "    </tr>\n",
              "    <tr>\n",
              "      <th>2325</th>\n",
              "      <td>False</td>\n",
              "    </tr>\n",
              "    <tr>\n",
              "      <th>2326</th>\n",
              "      <td>False</td>\n",
              "    </tr>\n",
              "  </tbody>\n",
              "</table>\n",
              "<p>2327 rows × 1 columns</p>\n",
              "</div><br><label><b>dtype:</b> object</label>"
            ]
          },
          "metadata": {},
          "execution_count": 27
        }
      ],
      "source": [
        "train['host_is_superhost']"
      ]
    },
    {
      "cell_type": "code",
      "execution_count": 28,
      "metadata": {
        "id": "16zp1x0S4qi0"
      },
      "outputs": [],
      "source": [
        "# prompt: for train and test df, convert all f in host_is_superhost to 0, and t to 1\n",
        "\n",
        "# Convert 'f' to 0 and 't' to 1 in 'host_is_superhost' column for train and test DataFrames\n",
        "train['host_is_superhost'] = train['host_is_superhost'].map({'f': 0, 't': 1})\n",
        "test['host_is_superhost'] = test['host_is_superhost'].map({'f': 0, 't': 1})\n"
      ]
    },
    {
      "cell_type": "markdown",
      "metadata": {
        "id": "w5QegQFu3hof"
      },
      "source": [
        "#### fill NA"
      ]
    },
    {
      "cell_type": "code",
      "execution_count": 31,
      "metadata": {
        "id": "SS51npT-3hof"
      },
      "outputs": [],
      "source": [
        "# ---\n",
        "# figure out how long the listing might be empty\n",
        "from datetime import datetime\n",
        "cur_date = pd.to_datetime('2024-11-01')\n",
        "train['days_since_last_review'] = (cur_date - pd.to_datetime(train['last_review'])).dt.days\n",
        "test['days_since_last_review'] = (cur_date - pd.to_datetime(test['last_review'])).dt.days\n",
        "\n",
        "# ---\n",
        "fill_zero_feat = ['host_is_superhost', 'beds', 'bathrooms', 'number_of_reviews_ltm']\n",
        "for feat in fill_zero_feat:\n",
        "    train[feat] = train[feat].fillna(0)\n",
        "    test[feat] = test[feat].fillna(0)\n",
        "\n",
        "# after filling with int 0, the original boolean value would result value error\n",
        "# convert all to numeric\n",
        "train['host_is_superhost'] = train['host_is_superhost'].apply(int)\n",
        "test['host_is_superhost'] = test['host_is_superhost'].apply(int)\n",
        "\n",
        "# ---\n",
        "fill_mean_feat = ['host_response_rate', 'host_acceptance_rate', 'review_scores_rating', 'review_scores_accuracy',\n",
        "                  'review_scores_cleanliness', 'review_scores_checkin', 'review_scores_communication', 'days_since_last_review',\n",
        "                  'review_scores_location', 'review_scores_value', 'reviews_per_month', 'first_review_recalculated', 'last_review_recalculated']\n",
        "for feat in fill_mean_feat:\n",
        "    train[feat] = pd.to_numeric(train[feat], errors='coerce')\n",
        "    test[feat] = pd.to_numeric(test[feat], errors='coerce')\n",
        "\n",
        "    mean_val = train[feat].mean()\n",
        "    train[feat] = train[feat].fillna(mean_val)\n",
        "    test[feat] = test[feat].fillna(mean_val)\n",
        "\n",
        "# ---\n",
        "# dummy indicates if have reviews in the past year\n",
        "train['has_reviews_ltm'] = train['number_of_reviews_ltm'].apply(lambda x: 1 if x!=0 else 0)\n",
        "test['has_reviews_ltm'] = test['number_of_reviews_ltm'].apply(lambda x: 1 if x!=0 else 0)"
      ]
    },
    {
      "cell_type": "code",
      "execution_count": 32,
      "metadata": {
        "id": "MLVodBRf3hof"
      },
      "outputs": [],
      "source": [
        "# how many reviews per month in the recent year\n",
        "train['reviews_per_month_ltm'] = train['number_of_reviews_ltm'] / 12\n",
        "test['reviews_per_month_ltm'] = test['number_of_reviews_ltm'] / 12"
      ]
    },
    {
      "cell_type": "code",
      "execution_count": 33,
      "metadata": {
        "colab": {
          "base_uri": "https://localhost:8080/",
          "height": 303
        },
        "id": "JI7S1OO13hof",
        "outputId": "a16eab21-74fb-4d73-d452-2009c59f9510"
      },
      "outputs": [
        {
          "output_type": "execute_result",
          "data": {
            "text/plain": [
              "description               40\n",
              "host_response_rate      2327\n",
              "host_acceptance_rate    2327\n",
              "bedrooms                  27\n",
              "has_availability          29\n",
              "first_review             208\n",
              "last_review              208\n",
              "dtype: int64"
            ],
            "text/html": [
              "<div>\n",
              "<style scoped>\n",
              "    .dataframe tbody tr th:only-of-type {\n",
              "        vertical-align: middle;\n",
              "    }\n",
              "\n",
              "    .dataframe tbody tr th {\n",
              "        vertical-align: top;\n",
              "    }\n",
              "\n",
              "    .dataframe thead th {\n",
              "        text-align: right;\n",
              "    }\n",
              "</style>\n",
              "<table border=\"1\" class=\"dataframe\">\n",
              "  <thead>\n",
              "    <tr style=\"text-align: right;\">\n",
              "      <th></th>\n",
              "      <th>0</th>\n",
              "    </tr>\n",
              "  </thead>\n",
              "  <tbody>\n",
              "    <tr>\n",
              "      <th>description</th>\n",
              "      <td>40</td>\n",
              "    </tr>\n",
              "    <tr>\n",
              "      <th>host_response_rate</th>\n",
              "      <td>2327</td>\n",
              "    </tr>\n",
              "    <tr>\n",
              "      <th>host_acceptance_rate</th>\n",
              "      <td>2327</td>\n",
              "    </tr>\n",
              "    <tr>\n",
              "      <th>bedrooms</th>\n",
              "      <td>27</td>\n",
              "    </tr>\n",
              "    <tr>\n",
              "      <th>has_availability</th>\n",
              "      <td>29</td>\n",
              "    </tr>\n",
              "    <tr>\n",
              "      <th>first_review</th>\n",
              "      <td>208</td>\n",
              "    </tr>\n",
              "    <tr>\n",
              "      <th>last_review</th>\n",
              "      <td>208</td>\n",
              "    </tr>\n",
              "  </tbody>\n",
              "</table>\n",
              "</div><br><label><b>dtype:</b> int64</label>"
            ]
          },
          "metadata": {},
          "execution_count": 33
        }
      ],
      "source": [
        "missing_values = train.isnull().sum()\n",
        "missing_values[missing_values > 0]"
      ]
    },
    {
      "cell_type": "code",
      "execution_count": 34,
      "metadata": {
        "colab": {
          "base_uri": "https://localhost:8080/",
          "height": 303
        },
        "id": "SGv5hBQ23hof",
        "outputId": "face1cd0-8b83-46d0-d78b-cdd910005cde"
      },
      "outputs": [
        {
          "output_type": "execute_result",
          "data": {
            "text/plain": [
              "description               7\n",
              "host_response_rate      582\n",
              "host_acceptance_rate    582\n",
              "bedrooms                 10\n",
              "has_availability          9\n",
              "first_review             56\n",
              "last_review              56\n",
              "dtype: int64"
            ],
            "text/html": [
              "<div>\n",
              "<style scoped>\n",
              "    .dataframe tbody tr th:only-of-type {\n",
              "        vertical-align: middle;\n",
              "    }\n",
              "\n",
              "    .dataframe tbody tr th {\n",
              "        vertical-align: top;\n",
              "    }\n",
              "\n",
              "    .dataframe thead th {\n",
              "        text-align: right;\n",
              "    }\n",
              "</style>\n",
              "<table border=\"1\" class=\"dataframe\">\n",
              "  <thead>\n",
              "    <tr style=\"text-align: right;\">\n",
              "      <th></th>\n",
              "      <th>0</th>\n",
              "    </tr>\n",
              "  </thead>\n",
              "  <tbody>\n",
              "    <tr>\n",
              "      <th>description</th>\n",
              "      <td>7</td>\n",
              "    </tr>\n",
              "    <tr>\n",
              "      <th>host_response_rate</th>\n",
              "      <td>582</td>\n",
              "    </tr>\n",
              "    <tr>\n",
              "      <th>host_acceptance_rate</th>\n",
              "      <td>582</td>\n",
              "    </tr>\n",
              "    <tr>\n",
              "      <th>bedrooms</th>\n",
              "      <td>10</td>\n",
              "    </tr>\n",
              "    <tr>\n",
              "      <th>has_availability</th>\n",
              "      <td>9</td>\n",
              "    </tr>\n",
              "    <tr>\n",
              "      <th>first_review</th>\n",
              "      <td>56</td>\n",
              "    </tr>\n",
              "    <tr>\n",
              "      <th>last_review</th>\n",
              "      <td>56</td>\n",
              "    </tr>\n",
              "  </tbody>\n",
              "</table>\n",
              "</div><br><label><b>dtype:</b> int64</label>"
            ]
          },
          "metadata": {},
          "execution_count": 34
        }
      ],
      "source": [
        "missing_values = test.isnull().sum()\n",
        "missing_values[missing_values > 0]"
      ]
    },
    {
      "cell_type": "markdown",
      "metadata": {
        "id": "MzuAP20q3hof"
      },
      "source": [
        "#### One-hot encoding binerize variables"
      ]
    },
    {
      "cell_type": "code",
      "execution_count": 35,
      "metadata": {
        "id": "7jjQS-TT3hof"
      },
      "outputs": [],
      "source": [
        "# # binerize number_of_reviews since a lot of 0s\n",
        "# review_bins = [-1, 0, 10, 34, 166, 5000]\n",
        "# review_labels = ['No reviews', '1-10 reviews', '11-34 reviews', '34-166 reviews', '166+ reviews']\n",
        "\n",
        "# train['reviews_category'] = pd.cut(train['number_of_reviews'], bins=review_bins, labels=review_labels)\n",
        "# test['reviews_category'] = pd.cut(test['number_of_reviews'], bins=review_bins, labels=review_labels)\n",
        "\n",
        "# # one-hot encoding\n",
        "# from sklearn.preprocessing import OneHotEncoder\n",
        "# oe_reviews = OneHotEncoder(sparse_output=False)\n",
        "# oe_reviews.fit(train[['reviews_category']])\n",
        "\n",
        "# train_encoded = oe_reviews.transform(train[['reviews_category']])\n",
        "# test_encoded = oe_reviews.transform(test[['reviews_category']])\n",
        "# reviews_df_train = pd.DataFrame(train_encoded, columns=oe_reviews.get_feature_names_out())\n",
        "# reviews_df_test = pd.DataFrame(test_encoded, columns=oe_reviews.get_feature_names_out())\n",
        "\n",
        "# # integrate the encoded\n",
        "# train = pd.concat([train, reviews_df_train, amenities_topics_train_df], axis=1)\n",
        "# test = pd.concat([test, reviews_df_test, amenities_topics_test_df], axis=1)\n",
        "\n",
        "\n",
        "# # binerize number_of_reviews since a lot of 0s\n",
        "# response_bins = [-1, 0, 75, 100]\n",
        "# response_labels = ['No response', 'less than 75 response', '75-100 response']\n",
        "\n",
        "# train['host_response_rate'] = train['host_response_rate'].fillna(0)\n",
        "# test['host_response_rate'] = test['host_response_rate'].fillna(0)\n",
        "# train['response_category'] = pd.cut(train['host_response_rate'], bins=response_bins, labels=response_labels)\n",
        "# test['response_category'] = pd.cut(test['host_response_rate'], bins=response_bins, labels=response_labels)\n",
        "\n",
        "# # one-hot encoding\n",
        "# from sklearn.preprocessing import OneHotEncoder\n",
        "# encoder = OneHotEncoder(sparse_output=False)\n",
        "# encoder.fit(train[['response_category']])\n",
        "\n",
        "# train_encoded = encoder.transform(train[['response_category']])\n",
        "# test_encoded = encoder.transform(test[['response_category']])\n",
        "# response_df_train = pd.DataFrame(train_encoded, columns=encoder.get_feature_names_out())\n",
        "# response_df_test = pd.DataFrame(test_encoded, columns=encoder.get_feature_names_out())\n",
        "\n",
        "# # integrate the encoded\n",
        "# train = pd.concat([train, response_df_train], axis=1)\n",
        "# test = pd.concat([test, response_df_test], axis=1)"
      ]
    },
    {
      "cell_type": "code",
      "execution_count": 36,
      "metadata": {
        "id": "6XFAmB7S3hog"
      },
      "outputs": [],
      "source": [
        "# train['host_acceptance_rate'] = train['host_acceptance_rate'].fillna(-1)\n",
        "# test['host_acceptance_rate'] = test['host_acceptance_rate'].fillna(-1)\n",
        "# train['review_scores_rating'] = train['review_scores_rating'].fillna(0)\n",
        "# test['review_scores_rating'] = test['review_scores_rating'].fillna(0)\n",
        "# train['review_scores_rating'] = train['review_scores_rating'].fillna(0)\n",
        "# test['review_scores_rating'] = test['review_scores_rating'].fillna(0)\n",
        "# train['review_scores_accuracy'] = train['review_scores_accuracy'].fillna(0)\n",
        "# test['review_scores_accuracy'] = test['review_scores_accuracy'].fillna(0)\n",
        "# train['review_scores_cleanliness'] = train['review_scores_cleanliness'].fillna(0)\n",
        "# test['review_scores_cleanliness'] = test['review_scores_cleanliness'].fillna(0)\n",
        "# train['review_scores_cleanliness'] = train['review_scores_cleanliness'].fillna(0)\n",
        "# test['review_scores_cleanliness'] = test['review_scores_cleanliness'].fillna(0)\n",
        "# train['review_scores_checkin'] = train['review_scores_checkin'].fillna(0)\n",
        "# test['review_scores_checkin'] = test['review_scores_checkin'].fillna(0)\n",
        "# train['review_scores_communication'] = train['review_scores_communication'].fillna(0)\n",
        "# test['review_scores_communication'] = test['review_scores_communication'].fillna(0)\n",
        "# train['review_scores_location'] = train['review_scores_location'].fillna(0)\n",
        "# test['review_scores_location'] = test['review_scores_location'].fillna(0)\n",
        "# train['review_scores_value'] = train['review_scores_value'].fillna(0)\n",
        "# test['review_scores_value'] = test['review_scores_value'].fillna(0)\n",
        "# train['reviews_per_month'] = train['reviews_per_month'].fillna(-1)\n",
        "# test['reviews_per_month'] = test['reviews_per_month'].fillna(-1)"
      ]
    },
    {
      "cell_type": "code",
      "execution_count": 37,
      "metadata": {
        "id": "p6quwntY3hog"
      },
      "outputs": [],
      "source": [
        "# # Assume 'data' is your DataFrame containing 'longitude' and 'latitude'\n",
        "\n",
        "# # Step 1: Determine data ranges\n",
        "# min_longitude = train['longitude'].min()\n",
        "# max_longitude = train['longitude'].max()\n",
        "# min_latitude = train['latitude'].min()\n",
        "# max_latitude = train['latitude'].max()\n",
        "\n",
        "# # Step 2: Decide on the number of bins\n",
        "# num_bins = 10  # Adjust as needed\n",
        "\n",
        "# # Step 3: Create bin edges\n",
        "# longitude_bins = np.linspace(min_longitude, max_longitude, num_bins + 1)\n",
        "# latitude_bins = np.linspace(min_latitude, max_latitude, num_bins + 1)\n",
        "\n",
        "# # Step 4: Assign to bins\n",
        "# longitude_bin_indices = np.digitize(train['longitude'], longitude_bins) - 1\n",
        "# latitude_bin_indices = np.digitize(train['latitude'], latitude_bins) - 1\n",
        "\n",
        "# # Handle edge cases\n",
        "# longitude_bin_indices[longitude_bin_indices == num_bins] = num_bins - 1\n",
        "# latitude_bin_indices[latitude_bin_indices == num_bins] = num_bins - 1\n",
        "\n",
        "# # Step 5: Combine bins to create geo categories\n",
        "# train['geo_category'] = latitude_bin_indices * num_bins + longitude_bin_indices\n",
        "\n",
        "# ##################################\n",
        "# # Step 4: Assign to bins\n",
        "# longitude_bin_indices = np.digitize(test['longitude'], longitude_bins) - 1\n",
        "# latitude_bin_indices = np.digitize(test['latitude'], latitude_bins) - 1\n",
        "\n",
        "# # Handle edge cases\n",
        "# longitude_bin_indices[longitude_bin_indices == num_bins] = num_bins - 1\n",
        "# latitude_bin_indices[latitude_bin_indices == num_bins] = num_bins - 1\n",
        "\n",
        "# # Step 5: Combine bins to create geo categories\n",
        "# test['geo_category'] = latitude_bin_indices * num_bins + longitude_bin_indices\n",
        "\n",
        "# ##################################\n",
        "\n",
        "# import matplotlib.pyplot as plt\n",
        "\n",
        "# plt.figure(figsize=(8, 6))\n",
        "# scatter = plt.scatter(\n",
        "#     train['longitude'],\n",
        "#     train['latitude'],\n",
        "#     c=train['geo_category'],\n",
        "#     cmap='tab20',\n",
        "#     s=10\n",
        "# )\n",
        "# plt.colorbar(scatter, label='Geo Category')\n",
        "# plt.xlabel('Longitude')\n",
        "# plt.ylabel('Latitude')\n",
        "# plt.title('Geographical Categories of NYC Airbnb Listings')\n",
        "# plt.show()"
      ]
    },
    {
      "cell_type": "code",
      "execution_count": 38,
      "metadata": {
        "id": "mCyPo6oM3hog"
      },
      "outputs": [],
      "source": [
        "# plt.figure(figsize=(8, 6))\n",
        "# scatter = plt.scatter(\n",
        "#     test['longitude'],\n",
        "#     test['latitude'],\n",
        "#     c=test['geo_category'],\n",
        "#     cmap='tab20',\n",
        "#     s=10\n",
        "# )\n",
        "# plt.colorbar(scatter, label='Geo Category')\n",
        "# plt.xlabel('Longitude')\n",
        "# plt.ylabel('Latitude')\n",
        "# plt.title('Geographical Categories of NYC Airbnb Listings')\n",
        "# plt.show()"
      ]
    },
    {
      "cell_type": "code",
      "execution_count": 39,
      "metadata": {
        "id": "x7CSFjKq3hog"
      },
      "outputs": [],
      "source": [
        "# np.unique(train['geo_category'])"
      ]
    },
    {
      "cell_type": "markdown",
      "metadata": {
        "id": "Ii4lk2JA3hog"
      },
      "source": [
        "# Feature Selection"
      ]
    },
    {
      "cell_type": "code",
      "execution_count": 40,
      "metadata": {
        "colab": {
          "base_uri": "https://localhost:8080/"
        },
        "id": "YbuZ-CGy3hog",
        "outputId": "811ad720-068a-430c-8e8f-b8a08becc456"
      },
      "outputs": [
        {
          "output_type": "execute_result",
          "data": {
            "text/plain": [
              "Index(['name', 'description', 'property_type', 'price', 'latitude',\n",
              "       'longitude', 'host_since', 'host_response_time', 'host_response_rate',\n",
              "       'host_acceptance_rate', 'host_is_superhost', 'host_listings_count',\n",
              "       'host_total_listings_count', 'host_verifications',\n",
              "       'host_has_profile_pic', 'host_identity_verified',\n",
              "       'calculated_host_listings_count',\n",
              "       'calculated_host_listings_count_entire_homes',\n",
              "       'calculated_host_listings_count_private_rooms',\n",
              "       'calculated_host_listings_count_shared_rooms', 'accommodates',\n",
              "       'bathrooms', 'bedrooms', 'beds', 'amenities', 'has_availability',\n",
              "       'availability_30', 'availability_60', 'availability_90',\n",
              "       'availability_365', 'instant_bookable', 'minimum_nights',\n",
              "       'maximum_nights', 'number_of_reviews', 'number_of_reviews_ltm',\n",
              "       'number_of_reviews_l30d', 'first_review', 'last_review',\n",
              "       'review_scores_rating', 'review_scores_accuracy',\n",
              "       'review_scores_cleanliness', 'review_scores_checkin',\n",
              "       'review_scores_communication', 'review_scores_location',\n",
              "       'review_scores_value', 'reviews_per_month', 'reviews',\n",
              "       'amenities_clean', 'amenities_cnt', 'Kitchen Supplies',\n",
              "       'House Infrastructure', 'Entertainment', 'Safety Features',\n",
              "       'Outdoor Amenities', 'Luxury Amenities', 'Family-Friendly Amenities',\n",
              "       'description_clean', 'des_len', 'has_review',\n",
              "       'neighbourhood_cleansed_encoded',\n",
              "       'neighbourhood_group_cleansed_encoded', 'room_type_encoded',\n",
              "       'property_type_org', 'property_type_encoded',\n",
              "       'host_response_time_encoded', 'bathroom_shared', 'host_years',\n",
              "       'first_review_recalculated', 'last_review_recalculated',\n",
              "       'bathroom_per_accommodate', 'bed_per_accommodate',\n",
              "       'availability_90_ratio', 'availability_30_60', 'days_since_last_review',\n",
              "       'has_reviews_ltm', 'reviews_per_month_ltm'],\n",
              "      dtype='object')"
            ]
          },
          "metadata": {},
          "execution_count": 40
        }
      ],
      "source": [
        "train.columns"
      ]
    },
    {
      "cell_type": "code",
      "execution_count": 41,
      "metadata": {
        "id": "uzsqNlFo3hog"
      },
      "outputs": [],
      "source": [
        "features = ['latitude',\n",
        "       'longitude', 'host_response_rate',\n",
        "       'host_acceptance_rate', 'host_is_superhost',\n",
        "       'host_total_listings_count',\n",
        "       'availability_90_ratio', 'instant_bookable',\n",
        "       'minimum_nights', 'maximum_nights', 'number_of_reviews',\n",
        "       'number_of_reviews_ltm', 'review_scores_rating', 'review_scores_accuracy',\n",
        "       'review_scores_cleanliness', 'review_scores_checkin',\n",
        "       'review_scores_communication', 'review_scores_location',\n",
        "       'review_scores_value', 'reviews_per_month', 'amenities_cnt', 'has_review',\n",
        "       'neighbourhood_cleansed_encoded',\n",
        "       'neighbourhood_group_cleansed_encoded', 'room_type_encoded',\n",
        "       'bathroom_shared',\n",
        "       # 'Kitchen Supplies',\n",
        "       # 'House Infrastructure', 'Entertainment', 'Safety Features',\n",
        "       # 'Outdoor Amenities', 'Luxury Amenities', 'Family-Friendly Amenities',\n",
        "       'days_since_last_review', 'has_reviews_ltm', 'des_len',\n",
        "       'bathroom_per_accommodate', 'bed_per_accommodate',\n",
        "       'property_type_encoded', 'host_response_time_encoded', 'accommodates',\n",
        "       'reviews_per_month_ltm', 'first_review_recalculated', 'last_review_recalculated',\n",
        "       'availability_30_60']"
      ]
    },
    {
      "cell_type": "code",
      "execution_count": 42,
      "metadata": {
        "colab": {
          "base_uri": "https://localhost:8080/"
        },
        "id": "yIBdo_Bw3hog",
        "outputId": "bbe20e23-1546-4d5f-d1e8-0bdc53eff8e1"
      },
      "outputs": [
        {
          "output_type": "stream",
          "name": "stderr",
          "text": [
            "/usr/local/lib/python3.11/dist-packages/sklearn/feature_selection/_variance_threshold.py:114: RuntimeWarning: Degrees of freedom <= 0 for slice.\n",
            "  self.variances_ = np.nanvar(X, axis=0)\n"
          ]
        },
        {
          "output_type": "execute_result",
          "data": {
            "text/plain": [
              "['host_total_listings_count',\n",
              " 'availability_90_ratio',\n",
              " 'instant_bookable',\n",
              " 'minimum_nights',\n",
              " 'maximum_nights',\n",
              " 'number_of_reviews',\n",
              " 'number_of_reviews_ltm',\n",
              " 'review_scores_rating',\n",
              " 'review_scores_accuracy',\n",
              " 'review_scores_cleanliness',\n",
              " 'review_scores_checkin',\n",
              " 'review_scores_communication',\n",
              " 'review_scores_location',\n",
              " 'review_scores_value',\n",
              " 'reviews_per_month',\n",
              " 'amenities_cnt',\n",
              " 'neighbourhood_cleansed_encoded',\n",
              " 'room_type_encoded',\n",
              " 'bathroom_shared',\n",
              " 'days_since_last_review',\n",
              " 'has_reviews_ltm',\n",
              " 'des_len',\n",
              " 'bathroom_per_accommodate',\n",
              " 'bed_per_accommodate',\n",
              " 'property_type_encoded',\n",
              " 'host_response_time_encoded',\n",
              " 'accommodates',\n",
              " 'reviews_per_month_ltm',\n",
              " 'first_review_recalculated',\n",
              " 'last_review_recalculated',\n",
              " 'availability_30_60']"
            ]
          },
          "metadata": {},
          "execution_count": 42
        }
      ],
      "source": [
        "from sklearn.feature_selection import VarianceThreshold\n",
        "\n",
        "selector = VarianceThreshold(threshold=0.01)\n",
        "selector.fit(train[features])\n",
        "selected_features1 = [features[i] for i in range(len(features)) if selector.get_support()[i]]\n",
        "selected_features1"
      ]
    },
    {
      "cell_type": "code",
      "execution_count": 43,
      "metadata": {
        "id": "kBMAMHmh3hog"
      },
      "outputs": [],
      "source": [
        "selected_features1 += ['latitude', 'longitude']"
      ]
    },
    {
      "cell_type": "markdown",
      "metadata": {
        "id": "V8dKGDqv3hoh"
      },
      "source": [
        "### scale"
      ]
    },
    {
      "cell_type": "code",
      "execution_count": 44,
      "metadata": {
        "id": "qaesBQiM_0jk"
      },
      "outputs": [],
      "source": [
        "train_copy = train.copy()\n",
        "test_copy = test.copy()"
      ]
    },
    {
      "cell_type": "code",
      "execution_count": 45,
      "metadata": {
        "id": "vYJP-XHv3hoh",
        "colab": {
          "base_uri": "https://localhost:8080/"
        },
        "outputId": "8bcedfe6-efd6-45c5-efbc-c4fe00d0f951"
      },
      "outputs": [
        {
          "output_type": "stream",
          "name": "stderr",
          "text": [
            "/usr/local/lib/python3.11/dist-packages/sklearn/utils/extmath.py:1101: RuntimeWarning: invalid value encountered in divide\n",
            "  updated_mean = (last_sum + new_sum) / updated_sample_count\n",
            "/usr/local/lib/python3.11/dist-packages/sklearn/utils/extmath.py:1106: RuntimeWarning: invalid value encountered in divide\n",
            "  T = new_sum / new_sample_count\n",
            "/usr/local/lib/python3.11/dist-packages/sklearn/utils/extmath.py:1126: RuntimeWarning: invalid value encountered in divide\n",
            "  new_unnormalized_variance -= correction**2 / new_sample_count\n"
          ]
        }
      ],
      "source": [
        "from sklearn.preprocessing import StandardScaler\n",
        "from sklearn.compose import ColumnTransformer\n",
        "std_scaler = StandardScaler()\n",
        "\n",
        "numeric_features = ['latitude',\n",
        "       'longitude', 'host_response_rate',\n",
        "       'host_acceptance_rate', 'host_listings_count',\n",
        "       'host_total_listings_count',\n",
        "       'calculated_host_listings_count',\n",
        "       'calculated_host_listings_count_entire_homes',\n",
        "       'calculated_host_listings_count_private_rooms',\n",
        "       'calculated_host_listings_count_shared_rooms', 'accommodates',\n",
        "       'bathrooms', 'bedrooms', 'beds',\n",
        "       'availability_30', 'availability_60', 'availability_90',\n",
        "       'availability_365', 'minimum_nights',\n",
        "       'maximum_nights', 'number_of_reviews', 'number_of_reviews_ltm',\n",
        "       'number_of_reviews_l30d',\n",
        "       'review_scores_rating', 'review_scores_accuracy',\n",
        "       'review_scores_cleanliness', 'review_scores_checkin',\n",
        "       'review_scores_communication', 'review_scores_location',\n",
        "       'review_scores_value', 'reviews_per_month',\n",
        "       'amenities_cnt', 'Kitchen Supplies',\n",
        "       'House Infrastructure', 'Entertainment', 'Safety Features',\n",
        "       'Outdoor Amenities', 'Luxury Amenities', 'Family-Friendly Amenities',\n",
        "       'des_len', 'host_years',\n",
        "       'first_review_recalculated', 'last_review_recalculated',\n",
        "       'bathroom_per_accommodate', 'bed_per_accommodate',\n",
        "       'availability_90_ratio', 'availability_30_60', 'days_since_last_review',\n",
        "       'reviews_per_month_ltm']\n",
        "scaled_numeric_train = std_scaler.fit_transform(train[numeric_features])\n",
        "scaled_numeric_test = std_scaler.transform(test[numeric_features])\n",
        "train[numeric_features] = scaled_numeric_train\n",
        "test[numeric_features] = scaled_numeric_test\n",
        "# train['des_len'] = std_scaler.fit_transform(train[['des_len']]).flatten()\n",
        "# test['des_len'] = std_scaler.transform(test[['des_len']])\n"
      ]
    },
    {
      "cell_type": "markdown",
      "metadata": {
        "id": "7Lu1RdrZ3hoh"
      },
      "source": [
        "### use rf for feature importance"
      ]
    },
    {
      "cell_type": "code",
      "execution_count": 46,
      "metadata": {
        "colab": {
          "base_uri": "https://localhost:8080/",
          "height": 655
        },
        "id": "UN016Mx43hoh",
        "outputId": "07076829-7f38-4717-fcb2-7664045e7d6a"
      },
      "outputs": [
        {
          "output_type": "stream",
          "name": "stdout",
          "text": [
            "Selected Features: ['accommodates', 'bathroom_per_accommodate', 'bed_per_accommodate', 'amenities_cnt', 'longitude', 'latitude', 'reviews_per_month', 'des_len', 'number_of_reviews', 'first_review_recalculated', 'availability_90_ratio', 'days_since_last_review', 'host_total_listings_count', 'review_scores_location', 'review_scores_value', 'availability_30_60', 'reviews_per_month_ltm', 'review_scores_rating', 'number_of_reviews_ltm', 'review_scores_cleanliness', 'maximum_nights', 'review_scores_accuracy', 'property_type_encoded', 'review_scores_checkin', 'review_scores_communication']\n"
          ]
        },
        {
          "output_type": "stream",
          "name": "stderr",
          "text": [
            "<ipython-input-46-c726203adbba>:22: FutureWarning: \n",
            "\n",
            "Passing `palette` without assigning `hue` is deprecated and will be removed in v0.14.0. Assign the `y` variable to `hue` and set `legend=False` for the same effect.\n",
            "\n",
            "  sns.barplot(x=importances.head(N), y=importances.head(N).index, palette='viridis')\n"
          ]
        },
        {
          "output_type": "display_data",
          "data": {
            "text/plain": [
              "<Figure size 1000x800 with 1 Axes>"
            ],
            "image/png": "[encoded data removed]"
          },
          "metadata": {}
        }
      ],
      "source": [
        "from sklearn.ensemble import RandomForestClassifier\n",
        "rf = RandomForestClassifier()\n",
        "X, y = train[selected_features1], train['price']\n",
        "rf.fit(X, y)\n",
        "\n",
        "# Get feature importances\n",
        "importances = pd.Series(rf.feature_importances_, index=selected_features1)\n",
        "importances = importances.sort_values(ascending=False)\n",
        "\n",
        "# Select top N features\n",
        "N = 25\n",
        "selected_features2 = importances.head(N).index.tolist()\n",
        "print(\"Selected Features:\", selected_features2)\n",
        "\n",
        "import matplotlib.pyplot as plt\n",
        "import seaborn as sns\n",
        "\n",
        "# Set the size of the plot\n",
        "plt.figure(figsize=(10, 8))\n",
        "\n",
        "# Plot the top N features\n",
        "sns.barplot(x=importances.head(N), y=importances.head(N).index, palette='viridis')\n",
        "\n",
        "plt.title('Top Feature Importances')\n",
        "plt.xlabel('Importance Score')\n",
        "plt.ylabel('Features')\n",
        "plt.tight_layout()\n",
        "plt.show()\n"
      ]
    },
    {
      "cell_type": "markdown",
      "metadata": {
        "id": "ZeUThWux3hoh"
      },
      "source": [
        "## Train Xgboost"
      ]
    },
    {
      "cell_type": "code",
      "execution_count": 47,
      "metadata": {
        "id": "4ZHJnudc3hoh"
      },
      "outputs": [],
      "source": [
        "# import xgboost as xgb\n",
        "# from xgboost import XGBClassifier, XGBRegressor\n",
        "# from sklearn.model_selection import train_test_split, RandomizedSearchCV, GridSearchCV, cross_val_score\n",
        "# from sklearn.metrics import accuracy_score, classification_report, confusion_matrix, root_mean_squared_error, make_scorer,mean_squared_error\n",
        "\n",
        "# X, y = train[selected_features2], train['price']\n",
        "\n",
        "# X_train, X_val, y_train, y_val = train_test_split(\n",
        "#     X, y, test_size=0.2, random_state=42\n",
        "# )\n",
        "\n",
        "# rmse_scorer = make_scorer(root_mean_squared_error, greater_is_better=False)\n",
        "\n",
        "# # Hyperparameter grid for XGBoost\n",
        "# param_grid = {\n",
        "#     'n_estimators': [500, 1000, 2000],\n",
        "#     'max_depth': [3, 6, 9, 11],\n",
        "#     'learning_rate': [0.005, 0.01, 0.05, 0.1],\n",
        "#     'subsample': [0.6, 0.8, 1.0],\n",
        "#     'colsample_bytree': [0.6, 0.8, 1.0],\n",
        "#     'gamma': [0, 0.1, 0.2],\n",
        "#     'reg_alpha': [0, 0.01, 0.1],\n",
        "#     'reg_lambda': [1, 1.5, 2],\n",
        "#     'min_child_weight': [1, 5, 10],\n",
        "#     'max_delta_step': [0, 1, 5]\n",
        "# }\n",
        "\n",
        "# xgb_reg = XGBRegressor(\n",
        "#     objective='reg:squarederror',\n",
        "#     random_state=42\n",
        "# )\n",
        "\n",
        "# random_search = RandomizedSearchCV(\n",
        "#     estimator=xgb_reg,\n",
        "#     param_distributions=param_grid,\n",
        "#     n_iter=50,                    # Number of parameter settings that are sampled\n",
        "#     scoring=rmse_scorer,           # Metric to optimize\n",
        "#     cv=10,                         # 10-fold cross-validation\n",
        "#     verbose=1,\n",
        "#     random_state=42,\n",
        "#     n_jobs=-1                     # Use all available cores\n",
        "# )\n",
        "\n",
        "# # Fit the random search model\n",
        "# random_search.fit(X_train, y_train)\n",
        "\n",
        "# best_params = random_search.best_params_\n",
        "# print(\"Best Hyperparameters:\")\n",
        "# print(random_search.best_params_)\n",
        "# # Cross-validation with the best parameters\n",
        "# best_xgb_reg = XGBRegressor(\n",
        "#     objective='reg:squarederror',\n",
        "#     random_state=42,\n",
        "#     early_stopping_rounds=10,\n",
        "#     **best_params\n",
        "# )\n",
        "\n",
        "# # Cross-validate on the training set\n",
        "# cv_scores = cross_val_score(\n",
        "#     best_xgb_reg,\n",
        "#     X_train,\n",
        "#     y_train,\n",
        "#     cv=10,\n",
        "#     scoring=rmse_scorer,\n",
        "#     n_jobs=-1\n",
        "# )\n",
        "\n",
        "# cv_rmse_scores = -cv_scores\n",
        "# print(\"Cross-validated RMSE scores:\", cv_rmse_scores)\n",
        "# print(\"Mean CV RMSE:\", cv_rmse_scores.mean())\n",
        "\n",
        "# # Train the model on the entire training data\n",
        "# best_xgb_reg.fit(X_train, y_train)\n",
        "\n",
        "# # Evaluate the model on the test set\n",
        "# y_pred = best_xgb_reg.predict(X_val)\n",
        "# test_rmse = root_mean_squared_error(y_val, y_pred)\n",
        "# print(f\"Test RMSE: {test_rmse:.2f}\")\n"
      ]
    },
    {
      "cell_type": "code",
      "execution_count": 48,
      "metadata": {
        "id": "MMRf6yzy3hoh"
      },
      "outputs": [],
      "source": [
        "def convert_to_classes(y_pred):\n",
        "\n",
        "    y_pred_round = np.round(y_pred)\n",
        "    y_pred_clip = np.clip(y_pred_round, 0, 5).astype(int)\n",
        "\n",
        "    return y_pred_clip\n",
        "# y_pred_clip = convert_to_classes(y_pred)\n",
        "# print(f\"Test RMSE: {root_mean_squared_error(y_val, y_pred_clip):.2f}\")"
      ]
    },
    {
      "cell_type": "code",
      "execution_count": 49,
      "metadata": {
        "id": "_dVh3Bd23hoh"
      },
      "outputs": [],
      "source": [
        "# X_test = test[selected_features3]\n",
        "# y_test_pred = best_xgb_reg.predict(X_test)\n",
        "# y_test_pred = convert_to_classes(y_test_pred)\n",
        "# submission = pd.DataFrame({\n",
        "#     'id': test['id'],\n",
        "#     'price': y_test_pred\n",
        "#     })\n",
        "# submission.to_csv('submission_xgb.csv', index=False, header=['id', 'price'])"
      ]
    },
    {
      "cell_type": "code",
      "execution_count": 50,
      "metadata": {
        "id": "1Mc97nwv3hoh"
      },
      "outputs": [],
      "source": [
        "# from xgboost import plot_importance\n",
        "# plot_importance(best_xgb_reg)"
      ]
    },
    {
      "cell_type": "code",
      "execution_count": 51,
      "metadata": {
        "id": "0NDyQGBm3hoh"
      },
      "outputs": [],
      "source": [
        "# test.columns"
      ]
    },
    {
      "cell_type": "markdown",
      "metadata": {
        "id": "9ppuh5M73hoh"
      },
      "source": [
        "# Train ensemble"
      ]
    },
    {
      "cell_type": "markdown",
      "metadata": {
        "id": "uhv_DB-73hoh"
      },
      "source": [
        "## XGBoost"
      ]
    },
    {
      "cell_type": "code",
      "execution_count": 52,
      "metadata": {
        "id": "khylzmt73hoh"
      },
      "outputs": [],
      "source": [
        "# # Import necessary libraries\n",
        "# import xgboost as xgb\n",
        "# from xgboost import XGBRegressor\n",
        "# from sklearn.model_selection import train_test_split, RandomizedSearchCV\n",
        "# from sklearn.metrics import root_mean_squared_error, make_scorer\n",
        "# import pandas as pd\n",
        "\n",
        "# # Assuming 'train' is your DataFrame and 'selected_features2' is your feature list\n",
        "# X, y = train[selected_features2], train['price']\n",
        "\n",
        "# # Split the data\n",
        "# X_train, X_val, y_train, y_val = train_test_split(\n",
        "#     X, y, test_size=0.2, random_state=42\n",
        "# )\n",
        "\n",
        "# # Define RMSE scorer (negative because lower is better)\n",
        "# rmse_scorer = make_scorer(root_mean_squared_error, greater_is_better=False)\n",
        "\n",
        "# # Hyperparameter grid for XGBoost\n",
        "# param_grid = {\n",
        "#     'n_estimators': [500, 1000, 2000],\n",
        "#     'max_depth': [3, 6, 9, 11],\n",
        "#     'learning_rate': [0.005, 0.01, 0.05, 0.1],\n",
        "#     'subsample': [0.6, 0.8, 1.0],\n",
        "#     'colsample_bytree': [0.6, 0.8, 1.0],\n",
        "#     'gamma': [0, 0.1, 0.2],\n",
        "#     'reg_alpha': [0, 0.01, 0.1],\n",
        "#     'reg_lambda': [1, 1.5, 2],\n",
        "#     'min_child_weight': [1, 5, 10],\n",
        "#     'max_delta_step': [0, 1, 5]\n",
        "# }\n",
        "\n",
        "# xgb_reg = XGBRegressor(\n",
        "#     objective='reg:squarederror',\n",
        "#     random_state=42\n",
        "# )\n",
        "\n",
        "# # Set up RandomizedSearchCV\n",
        "# random_search = RandomizedSearchCV(\n",
        "#     estimator=xgb_reg,\n",
        "#     param_distributions=param_grid,\n",
        "#     n_iter=50,\n",
        "#     scoring=rmse_scorer,\n",
        "#     cv=10,\n",
        "#     verbose=1,\n",
        "#     random_state=42,\n",
        "#     n_jobs=-1\n",
        "# )\n",
        "\n",
        "# # Perform hyperparameter tuning with early stopping\n",
        "# random_search.fit(\n",
        "#     X_train, y_train,\n",
        "# )\n",
        "\n",
        "# # Best hyperparameters\n",
        "# best_params = random_search.best_params_\n",
        "# print(\"Best Hyperparameters:\")\n",
        "# print(best_params)\n",
        "\n",
        "# # Retrain the model with best hyperparameters and early stopping\n",
        "# best_xgb_reg = XGBRegressor(\n",
        "#     objective='reg:squarederror',\n",
        "#     random_state=42,\n",
        "#     **best_params\n",
        "# )\n",
        "\n",
        "# # Cross-validate on the training set\n",
        "# cv_scores = cross_val_score(\n",
        "#     best_xgb_reg,\n",
        "#     X_train,\n",
        "#     y_train,\n",
        "#     cv=10,\n",
        "#     scoring=rmse_scorer,\n",
        "#     n_jobs=-1\n",
        "# )\n",
        "\n",
        "# cv_rmse_scores = -cv_scores\n",
        "# print(\"Cross-validated RMSE scores:\", cv_rmse_scores)\n",
        "# print(\"Mean CV RMSE:\", cv_rmse_scores.mean())\n",
        "\n",
        "# best_xgb_reg.fit(\n",
        "#     X_train, y_train,\n",
        "#     verbose=0\n",
        "# )\n",
        "\n",
        "# # Predict on validation set\n",
        "# y_pred = best_xgb_reg.predict(X_val)\n",
        "\n",
        "# # Calculate RMSE\n",
        "# test_rmse = root_mean_squared_error(y_val, y_pred)\n",
        "# print(f\"XGBoost Validation RMSE: {test_rmse:.2f}\")"
      ]
    },
    {
      "cell_type": "code",
      "execution_count": 53,
      "metadata": {
        "id": "bJOnWSkP3hoh"
      },
      "outputs": [],
      "source": [
        "# # Calculate RMSE\n",
        "# test_rmse = root_mean_squared_error(y_val, y_pred)\n",
        "# print(f\"XGBoost Validation RMSE: {test_rmse:.2f}\")"
      ]
    },
    {
      "cell_type": "markdown",
      "metadata": {
        "id": "k_RGk8JK3hoh"
      },
      "source": [
        "## Light GBM"
      ]
    },
    {
      "cell_type": "code",
      "execution_count": 54,
      "metadata": {
        "id": "cmT6Oxr83hoh"
      },
      "outputs": [],
      "source": [
        "# import lightgbm as lgb\n",
        "# from lightgbm import LGBMRegressor\n",
        "\n",
        "# # Hyperparameter grid for LightGBM\n",
        "# lgb_param_grid = {\n",
        "#     'n_estimators': [1000, 2000, 3000],\n",
        "#     'max_depth': [5, 10, 15, -1],\n",
        "#     'learning_rate': [0.005, 0.01, 0.05],\n",
        "#     'num_leaves': [31, 63, 127, 255],\n",
        "#     'subsample': [0.6, 0.8, 1.0],\n",
        "#     'colsample_bytree': [0.6, 0.8, 1.0],\n",
        "#     'reg_alpha': [0, 0.1, 0.5],\n",
        "#     'reg_lambda': [0.5, 1, 1.5],\n",
        "# }\n",
        "\n",
        "# lgb_reg = LGBMRegressor(\n",
        "#     objective='regression',\n",
        "#     random_state=42,\n",
        "#     force_col_wise=True\n",
        "# )\n",
        "\n",
        "# # Set up RandomizedSearchCV\n",
        "# lgb_random_search = RandomizedSearchCV(\n",
        "#     estimator=lgb_reg,\n",
        "#     param_distributions=lgb_param_grid,\n",
        "#     n_iter=50,\n",
        "#     scoring='neg_root_mean_squared_error',\n",
        "#     cv=5,\n",
        "#     verbose=1,\n",
        "#     random_state=42,\n",
        "#     n_jobs=-1\n",
        "# )\n",
        "\n",
        "# # Perform hyperparameter tuning with early stopping\n",
        "# lgb_random_search.fit(\n",
        "#     X_train, y_train\n",
        "# )\n",
        "\n",
        "# # Best hyperparameters\n",
        "# lgb_best_params = lgb_random_search.best_params_\n",
        "# print(\"Best LightGBM Hyperparameters:\")\n",
        "# print(lgb_best_params)\n",
        "\n",
        "# # Retrain the model with best hyperparameters\n",
        "# best_lgb_reg = LGBMRegressor(\n",
        "#     objective='regression',\n",
        "#     random_state=42,\n",
        "#     **lgb_best_params\n",
        "# )\n",
        "\n",
        "# best_lgb_reg.fit(\n",
        "#     X_train, y_train,\n",
        "#     verbose=0\n",
        "# )\n",
        "\n",
        "# # Predict on validation set\n",
        "# y_pred_lgb = best_lgb_reg.predict(X_val)\n",
        "\n",
        "# # Calculate RMSE\n",
        "# rmse_lgb = root_mean_squared_error(y_val, y_pred_lgb)\n",
        "# print(f\"LightGBM Validation RMSE: {rmse_lgb:.2f}\")"
      ]
    },
    {
      "cell_type": "code",
      "execution_count": 55,
      "metadata": {
        "id": "9-TlrIvp3hoh"
      },
      "outputs": [],
      "source": [
        "# import lightgbm as lgb\n",
        "# from sklearn.model_selection import RandomizedSearchCV, train_test_split\n",
        "\n",
        "# # Assuming 'train' is your DataFrame and 'selected_features2' is your feature list\n",
        "# X, y = train[selected_features2], train['price']\n",
        "\n",
        "# # Split the data\n",
        "# X_train, X_val, y_train, y_val = train_test_split(\n",
        "#     X, y, test_size=0.2, random_state=42\n",
        "# )\n",
        "\n",
        "# # Simplified hyperparameter grid\n",
        "# lgb_param_grid = {\n",
        "#     'n_estimators': [500],\n",
        "#     'max_depth': [6, 8],\n",
        "#     'learning_rate': [0.05, 0.1],\n",
        "#     'num_leaves': [31, 63],\n",
        "#     'subsample': [0.8],\n",
        "#     'colsample_bytree': [0.8],\n",
        "#     'reg_alpha': [0.0],\n",
        "#     'reg_lambda': [0.0],\n",
        "#     'min_child_weight': [1],\n",
        "# }\n",
        "\n",
        "# n_iter_search = 10  # Number of parameter settings that are sampled\n",
        "# cv_folds = 5        # Number of cross-validation folds\n",
        "\n",
        "# # Define the model\n",
        "# lgb_reg = lgb.LGBMRegressor(\n",
        "#     objective='regression',\n",
        "#     force_col_wise=True,\n",
        "#     random_state=42,\n",
        "#     n_jobs=-1  # Use all available CPU cores\n",
        "# )\n",
        "\n",
        "# # Set up RandomizedSearchCV\n",
        "# lgb_random_search = RandomizedSearchCV(\n",
        "#     estimator=lgb_reg,\n",
        "#     param_distributions=lgb_param_grid,\n",
        "#     n_iter=n_iter_search,\n",
        "#     scoring='neg_root_mean_squared_error',\n",
        "#     cv=cv_folds,\n",
        "#     verbose=1,\n",
        "#     random_state=42,\n",
        "#     n_jobs=-1\n",
        "# )\n",
        "\n",
        "# # Perform hyperparameter tuning with early stopping\n",
        "# lgb_random_search.fit(\n",
        "#     X_train, y_train\n",
        "# )\n",
        "\n",
        "# # Best hyperparameters\n",
        "# lgb_best_params = lgb_random_search.best_params_\n",
        "# print(\"Best LightGBM Hyperparameters:\")\n",
        "# print(lgb_best_params)\n",
        "\n",
        "# # Retrain the model with best hyperparameters\n",
        "# best_lgb_reg = lgb.LGBMRegressor(\n",
        "#     objective='regression',\n",
        "#     random_state=42,\n",
        "#     n_jobs=-1,\n",
        "#     **lgb_best_params\n",
        "# )\n",
        "\n",
        "# best_lgb_reg.fit(\n",
        "#     X_train, y_train\n",
        "# )\n",
        "\n",
        "# # Predict on validation set\n",
        "# y_pred_lgb = best_lgb_reg.predict(X_val)\n",
        "\n",
        "# # Calculate RMSE\n",
        "# rmse_lgb = root_mean_squared_error(y_val, y_pred_lgb)\n",
        "# print(f\"LightGBM Validation RMSE: {rmse_lgb:.2f}\")"
      ]
    },
    {
      "cell_type": "markdown",
      "metadata": {
        "id": "A_b3SF9q3hoh"
      },
      "source": [
        "## RF"
      ]
    },
    {
      "cell_type": "code",
      "execution_count": 56,
      "metadata": {
        "id": "SJieqYWm3hoh"
      },
      "outputs": [],
      "source": [
        "# from sklearn.ensemble import RandomForestRegressor\n",
        "\n",
        "# # Hyperparameter grid for Random Forest\n",
        "# rf_param_grid = {\n",
        "#     'n_estimators': [100, 200, 300, 500],\n",
        "#     'max_depth': [5, 10, 15, 20, None],\n",
        "#     'min_samples_split': [2, 5, 10, 20],\n",
        "#     'min_samples_leaf': [1, 2, 4],\n",
        "#     'max_features': ['sqrt', 'log2', 0.3, 0.5],\n",
        "#     'bootstrap': [True, False]\n",
        "# }\n",
        "\n",
        "# rf_reg = RandomForestRegressor(random_state=42)\n",
        "\n",
        "# # Set up RandomizedSearchCV\n",
        "# rf_random_search = RandomizedSearchCV(\n",
        "#     estimator=rf_reg,\n",
        "#     param_distributions=rf_param_grid,\n",
        "#     n_iter=50,\n",
        "#     scoring='neg_root_mean_squared_error',\n",
        "#     cv=5,\n",
        "#     verbose=1,\n",
        "#     random_state=42,\n",
        "#     n_jobs=-1\n",
        "# )\n",
        "\n",
        "# # Perform hyperparameter tuning\n",
        "# rf_random_search.fit(X_train, y_train)\n",
        "\n",
        "# # Best hyperparameters\n",
        "# rf_best_params = rf_random_search.best_params_\n",
        "# print(\"Best Random Forest Hyperparameters:\")\n",
        "# print(rf_best_params)\n",
        "\n",
        "# # Retrain the model with best hyperparameters\n",
        "# best_rf_reg = RandomForestRegressor(\n",
        "#     random_state=42,\n",
        "#     **rf_best_params\n",
        "# )\n",
        "\n",
        "# best_rf_reg.fit(X_train, y_train)\n",
        "\n",
        "# # Predict on validation set\n",
        "# y_pred_rf = best_rf_reg.predict(X_val)\n",
        "\n",
        "# # Calculate RMSE\n",
        "# rmse_rf = root_mean_squared_error(y_val, y_pred_rf)\n",
        "# print(f\"Random Forest Validation RMSE: {rmse_rf:.2f}\")"
      ]
    },
    {
      "cell_type": "markdown",
      "metadata": {
        "id": "Ulg5J4b73hoh"
      },
      "source": [
        "## Combine"
      ]
    },
    {
      "cell_type": "code",
      "execution_count": 57,
      "metadata": {
        "id": "WUGOdHGP3hoh"
      },
      "outputs": [],
      "source": [
        "# y_pred_xgb = best_xgb_reg.predict(X_val)\n",
        "# # Ensemble predictions by averaging\n",
        "# y_pred_ensemble = (y_pred_xgb + y_pred_lgb + y_pred_rf) / 3\n",
        "\n",
        "# # Calculate RMSE for ensemble\n",
        "# rmse_ensemble = root_mean_squared_error(y_val, y_pred_ensemble)\n",
        "\n",
        "# print(f\"Ensemble Validation RMSE: {rmse_ensemble:.2f}\")\n",
        "# print(f\"XGBoost Validation RMSE: {test_rmse:.2f}\")\n",
        "# print(f\"LightGBM Validation RMSE: {rmse_lgb:.2f}\")\n",
        "# print(f\"Random Forest Validation RMSE: {rmse_rf:.2f}\")\n",
        "# print(f\"Ensemble Validation RMSE: {rmse_ensemble:.2f}\")\n",
        "\n",
        "# # Calculate weights based on validation RMSE\n",
        "# total_rmse = 1 / test_rmse + 1 / rmse_lgb + 1 / rmse_rf\n",
        "# weights = [\n",
        "#     (1 / test_rmse) / total_rmse,\n",
        "#     (1 / rmse_lgb) / total_rmse,\n",
        "#     (1 / rmse_rf) / total_rmse\n",
        "# ]\n",
        "\n",
        "# # Weighted ensemble predictions\n",
        "# y_pred_weighted = (\n",
        "#     y_pred_xgb * weights[0] +\n",
        "#     y_pred_lgb * weights[1] +\n",
        "#     y_pred_rf * weights[2]\n",
        "# )\n",
        "\n",
        "# rmse_weighted = root_mean_squared_error(y_val, y_pred_weighted)\n",
        "# print(f\"Weighted Ensemble Validation RMSE: {rmse_weighted:.2f}\")"
      ]
    },
    {
      "cell_type": "code",
      "execution_count": 58,
      "metadata": {
        "id": "z75vteNH3hoi"
      },
      "outputs": [],
      "source": [
        "# X_test = test[selected_features2]\n",
        "# y_test_xgb = best_xgb_reg.predict(X_test)\n",
        "# y_test_lgm = best_lgb_reg.predict(X_test)\n",
        "# y_test_rf = best_rf_reg.predict(X_test)\n",
        "\n",
        "# y_pred_weighted = (\n",
        "#     y_test_xgb * weights[0] +\n",
        "#     y_test_lgm * weights[1] +\n",
        "#     y_test_rf * weights[2]\n",
        "# )\n",
        "\n",
        "# def convert_to_classes(y_pred):\n",
        "\n",
        "#     y_pred_round = np.round(y_pred)\n",
        "#     y_pred_clip = np.clip(y_pred_round, 0, 5).astype(int)\n",
        "\n",
        "#     return y_pred_clip\n",
        "# # Calculate RMSE\n",
        "# y_pred = convert_to_classes(y_pred_weighted)\n",
        "\n",
        "# submission = pd.DataFrame({\n",
        "#     'id': test['id'],\n",
        "#     'price': y_pred\n",
        "#     })\n",
        "# submission.to_csv('submission.csv', index=False, header=['id', 'price'])"
      ]
    },
    {
      "cell_type": "code",
      "execution_count": 59,
      "metadata": {
        "id": "mXSsUddf3hoi"
      },
      "outputs": [],
      "source": [
        "# y_pred_ensemble_test = (y_test_xgb + y_test_lgm + y_test_rf) / 3\n",
        "\n",
        "# submission = pd.DataFrame({\n",
        "#     'id': test['id'],\n",
        "#     'price': y_pred_ensemble_test\n",
        "#     })\n",
        "# submission.to_csv('submission.csv', index=False, header=['id', 'price'])"
      ]
    },
    {
      "cell_type": "code",
      "execution_count": 60,
      "metadata": {
        "id": "JWCKueP13hoi"
      },
      "outputs": [],
      "source": [
        "# y_test_rf[3]"
      ]
    },
    {
      "cell_type": "markdown",
      "metadata": {
        "id": "2bya0uHv3hoi"
      },
      "source": [
        "# Train Stack Regressor"
      ]
    },
    {
      "cell_type": "code",
      "execution_count": 61,
      "metadata": {
        "id": "Xpx3pKbVbHmz"
      },
      "outputs": [],
      "source": [
        "import pandas as pd\n",
        "import numpy as np\n",
        "\n",
        "# Models\n",
        "import xgboost as xgb\n",
        "from xgboost import XGBRegressor\n",
        "import lightgbm as lgb\n",
        "from lightgbm import LGBMRegressor\n",
        "from sklearn.ensemble import RandomForestRegressor, StackingRegressor\n",
        "\n",
        "# Hyperparameter tuning and cross-validation\n",
        "from sklearn.model_selection import train_test_split, RandomizedSearchCV, cross_val_score, KFold\n",
        "from sklearn.metrics import root_mean_squared_error, make_scorer\n",
        "import tensorflow as tf\n",
        "\n",
        "# Suppress warnings\n",
        "import warnings\n",
        "warnings.filterwarnings('ignore')\n",
        "\n",
        "X_train_full = train[selected_features2]\n",
        "y_train_full = train['price']\n",
        "\n",
        "# Split the data into training and validation sets\n",
        "\n",
        "# Define RMSE scorer (negative because lower is better)\n",
        "rmse_scorer = make_scorer(root_mean_squared_error, greater_is_better=False)\n",
        "\n",
        "cv = KFold(n_splits=10, shuffle=True, random_state=42)"
      ]
    },
    {
      "cell_type": "code",
      "execution_count": 62,
      "metadata": {
        "colab": {
          "base_uri": "https://localhost:8080/"
        },
        "id": "FCN1RZlA3hoi",
        "outputId": "b7868371-6b40-40cc-93a8-31ef5cecca13"
      },
      "outputs": [
        {
          "output_type": "stream",
          "name": "stdout",
          "text": [
            "Time taken for tuning: 0.00 seconds\n",
            "Best XGBoost Hyperparameters:\n",
            "{'subsample': 0.8, 'reg_lambda': 1.5, 'reg_alpha': 0.1, 'n_estimators': 2000, 'min_child_weight': 7, 'max_depth': 9, 'learning_rate': 0.01, 'gamma': 0.2, 'colsample_bytree': 0.9}\n"
          ]
        }
      ],
      "source": [
        "# Hyperparameter grid for XGBoost\n",
        "xgb_param_grid = {\n",
        "    'n_estimators': [1500, 2000, 2500],\n",
        "    'max_depth': [7, 9, 11],\n",
        "    'learning_rate': [0.01, 0.005],\n",
        "    'subsample': [0.8, 0.9, 1],\n",
        "    'colsample_bytree': [0.8, 0.9, 1],\n",
        "    'gamma': [0.2],\n",
        "    'reg_alpha': [0.1],\n",
        "    'reg_lambda': [1.5, 2.0],\n",
        "    'min_child_weight': [7],\n",
        "}\n",
        "\n",
        "xgb_reg = XGBRegressor(\n",
        "    objective='reg:squarederror',\n",
        "    random_state=42\n",
        ")\n",
        "\n",
        "# RandomizedSearchCV for XGBoost\n",
        "xgb_random_search = RandomizedSearchCV(\n",
        "    estimator=xgb_reg,\n",
        "    param_distributions=xgb_param_grid,\n",
        "    n_iter=20,\n",
        "    scoring=rmse_scorer,\n",
        "    cv=cv,\n",
        "    verbose=1,\n",
        "    random_state=42,\n",
        "    n_jobs=-1\n",
        ")\n",
        "\n",
        "# Perform hyperparameter tuning\n",
        "# Record time\n",
        "import time\n",
        "time_cost = {}\n",
        "start_time = time.time()\n",
        "# xgb_random_search.fit(X_train_full, y_train_full)\n",
        "end_time = time.time()\n",
        "elapsed_time = end_time - start_time\n",
        "print(f\"Time taken for tuning: {elapsed_time:.2f} seconds\")\n",
        "time_cost['xgb'] = elapsed_time\n",
        "# Best hyperparameters\n",
        "xgb_best_params = {'subsample': 0.8,\n",
        "                   'reg_lambda': 1.5,\n",
        "                   'reg_alpha': 0.1,\n",
        "                   'n_estimators': 2000,\n",
        "                   'min_child_weight': 7,\n",
        "                   'max_depth': 9,\n",
        "                   'learning_rate': 0.01,\n",
        "                   'gamma': 0.2,\n",
        "                   'colsample_bytree': 0.9}\n",
        "print(\"Best XGBoost Hyperparameters:\")\n",
        "print(xgb_best_params)\n",
        "best_xgb_reg = XGBRegressor(\n",
        "    objective='reg:squarederror',\n",
        "    random_state=42,\n",
        "    **xgb_best_params\n",
        ")\n",
        "\n"
      ]
    },
    {
      "cell_type": "code",
      "execution_count": 63,
      "metadata": {
        "colab": {
          "base_uri": "https://localhost:8080/"
        },
        "id": "XDzml8Chn5Wt",
        "outputId": "75c036aa-af44-4d6b-b185-b8106521e93a"
      },
      "outputs": [
        {
          "output_type": "execute_result",
          "data": {
            "text/plain": [
              "['accommodates',\n",
              " 'bathroom_per_accommodate',\n",
              " 'bed_per_accommodate',\n",
              " 'amenities_cnt',\n",
              " 'longitude',\n",
              " 'latitude',\n",
              " 'reviews_per_month',\n",
              " 'des_len',\n",
              " 'number_of_reviews',\n",
              " 'first_review_recalculated',\n",
              " 'availability_90_ratio',\n",
              " 'days_since_last_review',\n",
              " 'host_total_listings_count',\n",
              " 'review_scores_location',\n",
              " 'review_scores_value',\n",
              " 'availability_30_60',\n",
              " 'reviews_per_month_ltm',\n",
              " 'review_scores_rating',\n",
              " 'number_of_reviews_ltm',\n",
              " 'review_scores_cleanliness',\n",
              " 'maximum_nights',\n",
              " 'review_scores_accuracy',\n",
              " 'property_type_encoded',\n",
              " 'review_scores_checkin',\n",
              " 'review_scores_communication']"
            ]
          },
          "metadata": {},
          "execution_count": 63
        }
      ],
      "source": [
        "selected_features2"
      ]
    },
    {
      "cell_type": "code",
      "execution_count": 65,
      "metadata": {
        "id": "3-TjERwpLWnF"
      },
      "outputs": [],
      "source": [
        "time_cost = {}\n",
        "time_cost['xgb'] = 3209.5"
      ]
    },
    {
      "cell_type": "code",
      "execution_count": 66,
      "metadata": {
        "colab": {
          "base_uri": "https://localhost:8080/",
          "height": 511
        },
        "id": "MqgThOOS3hoi",
        "outputId": "e6f12507-407c-4d9c-ff7e-c0d8a62bce4b"
      },
      "outputs": [
        {
          "metadata": {
            "tags": null
          },
          "name": "stdout",
          "output_type": "stream",
          "text": [
            "n_estimators: 500, Validation RMSE: 1.0461\n",
            "n_estimators: 1000, Validation RMSE: 1.0406\n",
            "n_estimators: 1500, Validation RMSE: 1.0411\n",
            "n_estimators: 2000, Validation RMSE: 1.0410\n",
            "n_estimators: 2500, Validation RMSE: 1.0412\n"
          ]
        },
        {
          "data": {
            "image/png": "[encoded data removed]",
            "text/plain": [
              "<Figure size 1000x600 with 1 Axes>"
            ]
          },
          "metadata": {},
          "output_type": "display_data"
        }
      ],
      "source": [
        "# Assume 'train' is your DataFrame and 'selected_features2' is your feature list\n",
        "X = train[selected_features2]\n",
        "y = train['price']\n",
        "\n",
        "# Split the data into training and validation subsets\n",
        "X_train_subset, X_val_subset, y_train_subset, y_val_subset = train_test_split(\n",
        "    X, y, test_size=0.2, random_state=42\n",
        ")\n",
        "\n",
        "# Hyperparameters to test\n",
        "n_estimators_list = [500, 1000, 1500, 2000, 2500]\n",
        "\n",
        "# Store results\n",
        "rmse_list = []\n",
        "\n",
        "from xgboost import XGBRegressor\n",
        "from sklearn.metrics import root_mean_squared_error, make_scorer\n",
        "# Loop over different n_estimators\n",
        "for n_estimators in n_estimators_list:\n",
        "    xgb_reg = XGBRegressor(\n",
        "        n_estimators=n_estimators,\n",
        "        max_depth=9,\n",
        "        learning_rate=0.01,\n",
        "        subsample=0.8,\n",
        "        colsample_bytree=0.8,\n",
        "        gamma=0.2,\n",
        "        reg_alpha=0.1,\n",
        "        reg_lambda=1.5,\n",
        "        min_child_weight=7,\n",
        "        objective='reg:squarederror',\n",
        "        random_state=42,\n",
        "        n_jobs=-1,\n",
        "        verbosity=0\n",
        "    )\n",
        "\n",
        "    # Fit the model\n",
        "    xgb_reg.fit(X_train_subset, y_train_subset)\n",
        "\n",
        "    # Predict on validation set\n",
        "    y_pred = xgb_reg.predict(X_val_subset)\n",
        "\n",
        "    # Calculate RMSE\n",
        "    rmse = root_mean_squared_error(y_val_subset, y_pred)\n",
        "    rmse_list.append(rmse)\n",
        "    print(f\"n_estimators: {n_estimators}, Validation RMSE: {rmse:.4f}\")\n",
        "\n",
        "# Plotting\n",
        "plt.figure(figsize=(10, 6))\n",
        "plt.plot(n_estimators_list, rmse_list, marker='o', linestyle='-', color='b')\n",
        "plt.title('Effect of n_estimators on XGBoost Performance')\n",
        "plt.xlabel('Number of Estimators (n_estimators)')\n",
        "plt.ylabel('Validation RMSE')\n",
        "plt.xticks(n_estimators_list)\n",
        "plt.grid(True)\n",
        "plt.show()"
      ]
    },
    {
      "cell_type": "code",
      "execution_count": 67,
      "metadata": {
        "colab": {
          "base_uri": "https://localhost:8080/",
          "height": 1000
        },
        "id": "jT7KDy72tX6Z",
        "outputId": "34503683-c0b5-41f1-933b-fc61cd21f28f"
      },
      "outputs": [
        {
          "output_type": "stream",
          "name": "stdout",
          "text": [
            "\n",
            "=== Test-Set Performance ===\n",
            "                      RMSE       MAE        R²  MAPE (%)\n",
            "Model                                                   \n",
            "Mean Predictor    1.709605  1.478758 -0.005310       inf\n",
            "Ridge Regression  1.350216  1.115441  0.372931       inf\n",
            "XGBoost (ours)    1.051556  0.783374  0.619658       inf\n",
            "\n",
            "XGBoost 5-fold CV RMSE: 1.0821 ± 0.0437\n"
          ]
        },
        {
          "output_type": "display_data",
          "data": {
            "text/plain": [
              "<Figure size 600x600 with 1 Axes>"
            ],
            "image/png": "[encoded data removed]"
          },
          "metadata": {}
        },
        {
          "output_type": "display_data",
          "data": {
            "text/plain": [
              "<Figure size 600x400 with 1 Axes>"
            ],
            "image/png": "[encoded data removed]"
          },
          "metadata": {}
        },
        {
          "output_type": "display_data",
          "data": {
            "text/plain": [
              "<Figure size 600x400 with 1 Axes>"
            ],
            "image/png": "[encoded data removed]"
          },
          "metadata": {}
        },
        {
          "output_type": "stream",
          "name": "stdout",
          "text": [
            "\n",
            "Top 5 Best-Predicted Listings:\n",
            "     accommodates  bathroom_per_accommodate  bed_per_accommodate  \\\n",
            "396     -0.888174                 -1.512052            -1.791120   \n",
            "196     -0.255744                 -1.512052            -1.791120   \n",
            "131     -0.888174                 -1.512052            -1.791120   \n",
            "313     -0.255744                 -0.430496             0.033363   \n",
            "421      0.060471                 -1.512052            -1.791120   \n",
            "\n",
            "     amenities_cnt  longitude  latitude  reviews_per_month   des_len  \\\n",
            "396       0.302291   0.240417  0.585013      -1.052648e+00  0.091247   \n",
            "196       0.169393   1.650740  0.480393      -2.488195e-01  1.077170   \n",
            "131      -1.757633   0.753374 -2.765077      -8.856184e-01 -0.715417   \n",
            "313       0.700986  -0.763832 -0.020026      -1.021330e+00  0.315321   \n",
            "421       0.568088   1.076088 -2.834960      -2.317996e-16  0.270506   \n",
            "\n",
            "     number_of_reviews  first_review_recalculated  ...  number_of_reviews_ltm  \\\n",
            "396          -0.652132              -3.942655e-01  ...              -0.793065   \n",
            "196          -0.523775               1.002912e+00  ...               0.198533   \n",
            "131          -0.348129              -2.013721e+00  ...              -0.793065   \n",
            "313          -0.699422               1.002912e+00  ...              -0.644325   \n",
            "421          -0.726444              -6.768778e-16  ...              -0.793065   \n",
            "\n",
            "     review_scores_cleanliness  maximum_nights  review_scores_accuracy  \\\n",
            "396               2.697584e-02       -0.685824                0.619947   \n",
            "196               6.968408e-01       -0.111311                0.400062   \n",
            "131               5.479820e-01       -0.943768                0.253472   \n",
            "313               6.968408e-01       -0.615475               -1.212430   \n",
            "421               6.610663e-15       -0.756172                0.000000   \n",
            "\n",
            "     property_type_encoded  review_scores_checkin  \\\n",
            "396                   12.0               0.491692   \n",
            "196                    3.0               0.223944   \n",
            "131                    6.0              -1.204043   \n",
            "313                   13.0               0.491692   \n",
            "421                    3.0               0.000000   \n",
            "\n",
            "     review_scores_communication  actual_price  predicted_price  abs_error  \n",
            "396                     0.453203             3         2.999002   0.000998  \n",
            "196                     0.453203             3         3.004687   0.004687  \n",
            "131                    -2.963811             3         3.010876   0.010876  \n",
            "313                     0.453203             2         1.988631   0.011369  \n",
            "421                     0.000000             3         3.013158   0.013158  \n",
            "\n",
            "[5 rows x 28 columns]\n",
            "\n",
            "Top 5 Worst-Predicted Listings:\n",
            "     accommodates  bathroom_per_accommodate  bed_per_accommodate  \\\n",
            "372     -0.888174                  0.651060             0.033363   \n",
            "245     -0.571959                 -0.069977             0.641524   \n",
            "120     -0.888174                  0.651060             0.033363   \n",
            "510     -0.571959                 -0.069977             0.641524   \n",
            "202     -0.888174                  0.651060            -1.791120   \n",
            "\n",
            "     amenities_cnt  longitude  latitude  reviews_per_month   des_len  \\\n",
            "372      -0.362201   0.180992  0.424201      -8.543004e-01 -0.939491   \n",
            "245       1.631274   0.909409  0.891467       1.698115e+00  0.584209   \n",
            "120      -1.890532  -2.167759 -0.568464      -2.317996e-16 -2.642449   \n",
            "510      -1.358938   0.023968 -0.032899      -1.068307e+00  0.718653   \n",
            "202      -2.089879   0.936834 -1.744005      -1.099625e+00  0.494579   \n",
            "\n",
            "     number_of_reviews  first_review_recalculated  ...  number_of_reviews_ltm  \\\n",
            "372          -0.300839              -1.981967e+00  ...              -0.644325   \n",
            "245          -0.685910               1.510976e+00  ...              -0.495586   \n",
            "120          -0.726444              -6.768778e-16  ...              -0.793065   \n",
            "510          -0.665644              -3.625114e-01  ...              -0.793065   \n",
            "202          -0.719689               1.193436e+00  ...              -0.743485   \n",
            "\n",
            "     review_scores_cleanliness  maximum_nights  review_scores_accuracy  \\\n",
            "372               3.246936e-01        1.670851                0.253472   \n",
            "245               6.968408e-01       -0.934388                0.619947   \n",
            "120               6.610663e-15       -0.111311                0.000000   \n",
            "510               6.968408e-01       -0.111311               -0.186299   \n",
            "202               6.968408e-01       -0.950803                0.619947   \n",
            "\n",
            "     property_type_encoded  review_scores_checkin  \\\n",
            "372                    3.0               0.223944   \n",
            "245                    3.0               0.491692   \n",
            "120                    3.0               0.000000   \n",
            "510                    4.0               0.491692   \n",
            "202                    3.0               0.491692   \n",
            "\n",
            "     review_scores_communication  actual_price  predicted_price  abs_error  \n",
            "372                     0.220224             5         1.635002   3.364998  \n",
            "245                     0.453203             5         1.720398   3.279602  \n",
            "120                     0.000000             0         3.209239   3.209239  \n",
            "510                     0.453203             5         1.848856   3.151144  \n",
            "202                     0.453203             5         1.902619   3.097381  \n",
            "\n",
            "[5 rows x 28 columns]\n"
          ]
        }
      ],
      "source": [
        "import numpy as np\n",
        "import pandas as pd\n",
        "import matplotlib.pyplot as plt\n",
        "\n",
        "from sklearn.model_selection import train_test_split, GridSearchCV, cross_val_score\n",
        "from sklearn.dummy import DummyRegressor\n",
        "from sklearn.linear_model import Ridge\n",
        "from sklearn.metrics import (\n",
        "    mean_squared_error,\n",
        "    mean_absolute_error,\n",
        "    r2_score\n",
        ")\n",
        "from xgboost import XGBRegressor\n",
        "\n",
        "# --- 1. Data Preparation & Splitting (60/20/20) ---\n",
        "X = train[selected_features2]\n",
        "y = train['price']\n",
        "\n",
        "# 20% held out for final test\n",
        "X_train, X_val, y_train, y_val = train_test_split(\n",
        "    X, y, test_size=0.20, random_state=42\n",
        ")\n",
        "\n",
        "X_test = test[selected_features2]\n",
        "y_test = test['price']\n",
        "\n",
        "# --- 2. Baseline: Mean Predictor ---\n",
        "mean_baseline = DummyRegressor(strategy='mean')\n",
        "mean_baseline.fit(X_train, y_train)\n",
        "\n",
        "# --- 3. Ridge Regression with 5-fold CV ---\n",
        "ridge = Ridge()\n",
        "param_grid = {'alpha': [0.01, 0.1, 1, 10]}\n",
        "grid_ridge = GridSearchCV(\n",
        "    ridge,\n",
        "    param_grid,\n",
        "    cv=5,\n",
        "    scoring='neg_root_mean_squared_error',\n",
        "    n_jobs=-1\n",
        ")\n",
        "grid_ridge.fit(X_train, y_train)\n",
        "best_ridge = grid_ridge.best_estimator_\n",
        "\n",
        "# --- 4. XGBoost (fixed hyperparameters) ---\n",
        "xgb = XGBRegressor(\n",
        "    n_estimators=1500,\n",
        "    max_depth=9,\n",
        "    learning_rate=0.01,\n",
        "    subsample=0.8,\n",
        "    colsample_bytree=0.8,\n",
        "    gamma=0.2,\n",
        "    reg_alpha=0.1,\n",
        "    reg_lambda=1.5,\n",
        "    min_child_weight=7,\n",
        "    objective='reg:squarederror',\n",
        "    random_state=42,\n",
        "    n_jobs=-1,\n",
        "    verbosity=0\n",
        ")\n",
        "xgb.fit(X_train, y_train)\n",
        "\n",
        "# --- 5. Final Evaluation on Test Set ---\n",
        "models = {\n",
        "    'Mean Predictor': mean_baseline,\n",
        "    'Ridge Regression': best_ridge,\n",
        "    'XGBoost (ours)': xgb\n",
        "}\n",
        "\n",
        "results = []\n",
        "for name, model in models.items():\n",
        "    y_pred = model.predict(X_test)\n",
        "    rmse = np.sqrt(mean_squared_error(y_test, y_pred))\n",
        "    mae  = mean_absolute_error(y_test, y_pred)\n",
        "    r2   = r2_score(y_test, y_pred)\n",
        "    mape = np.mean(np.abs((y_test - y_pred) / y_test)) * 100\n",
        "    results.append({\n",
        "        'Model': name,\n",
        "        'RMSE': rmse,\n",
        "        'MAE': mae,\n",
        "        'R²': r2,\n",
        "        'MAPE (%)': mape\n",
        "    })\n",
        "\n",
        "metrics_df = pd.DataFrame(results).set_index('Model')\n",
        "print(\"\\n=== Test-Set Performance ===\")\n",
        "print(metrics_df)\n",
        "\n",
        "# --- 6. 5-Fold CV RMSE on Training+Validation Set ---\n",
        "cv_scores = cross_val_score(\n",
        "    xgb,\n",
        "    X, y,\n",
        "    cv=5,\n",
        "    scoring='neg_root_mean_squared_error',\n",
        "    n_jobs=-1\n",
        ")\n",
        "cv_rmse = -cv_scores\n",
        "print(f\"\\nXGBoost 5-fold CV RMSE: {cv_rmse.mean():.4f} ± {cv_rmse.std():.4f}\")\n",
        "\n",
        "# --- 7. Visualizations ---\n",
        "\n",
        "# 7a) Predicted vs. Actual (XGBoost)\n",
        "y_xgb_test = xgb.predict(X_test)\n",
        "plt.figure(figsize=(6,6))\n",
        "plt.scatter(y_test, y_xgb_test, alpha=0.5)\n",
        "lims = [min(y_test.min(), y_xgb_test.min()), max(y_test.max(), y_xgb_test.max())]\n",
        "plt.plot(lims, lims, '--', linewidth=1)\n",
        "plt.xlabel('Actual Price')\n",
        "plt.ylabel('Predicted Price')\n",
        "plt.title('XGBoost: Predicted vs. Actual')\n",
        "plt.tight_layout()\n",
        "plt.show()\n",
        "\n",
        "# 7b) Residuals Histogram (XGBoost)\n",
        "residuals = y_test - y_xgb_test\n",
        "plt.figure(figsize=(6,4))\n",
        "plt.hist(residuals, bins=30)\n",
        "plt.xlabel('Residual (Actual – Predicted)')\n",
        "plt.ylabel('Frequency')\n",
        "plt.title('XGBoost: Residuals Distribution')\n",
        "plt.tight_layout()\n",
        "plt.show()\n",
        "\n",
        "# 7c) Residuals by Price Decile\n",
        "deciles = pd.qcut(y_test, 10, labels=False, duplicates='drop')\n",
        "plt.figure(figsize=(6,4))\n",
        "plt.boxplot(\n",
        "    [residuals[deciles == i] for i in range(10)],\n",
        "    labels=[f'{i+1}' for i in range(10)]\n",
        ")\n",
        "plt.xlabel('Price Decile')\n",
        "plt.ylabel('Residual')\n",
        "plt.title('Residuals by Price Decile (XGBoost)')\n",
        "plt.tight_layout()\n",
        "plt.show()\n",
        "\n",
        "# --- 8. Examples of Success & Failure (XGBoost) ---\n",
        "test_df = X_test.copy()\n",
        "test_df['actual_price']    = y_test\n",
        "test_df['predicted_price'] = y_xgb_test\n",
        "test_df['abs_error']       = (test_df['actual_price'] - test_df['predicted_price']).abs()\n",
        "\n",
        "print(\"\\nTop 5 Best-Predicted Listings:\")\n",
        "print(test_df.nsmallest(5, 'abs_error')[\n",
        "    selected_features2 + ['actual_price','predicted_price','abs_error']\n",
        "])\n",
        "\n",
        "print(\"\\nTop 5 Worst-Predicted Listings:\")\n",
        "print(test_df.nlargest(5, 'abs_error')[\n",
        "    selected_features2 + ['actual_price','predicted_price','abs_error']\n",
        "])\n"
      ]
    },
    {
      "cell_type": "code",
      "execution_count": null,
      "metadata": {
        "id": "MfHCgfW6suLv"
      },
      "outputs": [],
      "source": [
        "X_test = test[selected_features2]\n",
        "y_test = test['price']\n",
        "\n",
        "\n",
        "xgb_reg = XGBRegressor(\n",
        "        n_estimators=2500,\n",
        "        max_depth=9,\n",
        "        learning_rate=0.01,\n",
        "        subsample=0.8,\n",
        "        colsample_bytree=0.8,\n",
        "        gamma=0.2,\n",
        "        reg_alpha=0.1,\n",
        "        reg_lambda=1.5,\n",
        "        min_child_weight=7,\n",
        "        objective='reg:squarederror',\n",
        "        random_state=42,\n",
        "        n_jobs=-1,\n",
        "        verbosity=0\n",
        "    )\n",
        "\n",
        "# Fit the model\n",
        "xgb_reg.fit(X, y)\n",
        "\n",
        "# Predict on validation set\n",
        "y_pred_test = xgb_reg.predict(X_test)\n",
        "\n",
        "\n",
        "rmse_test = root_mean_squared_error(y_test, y_pred_test)\n"
      ]
    },
    {
      "cell_type": "code",
      "execution_count": 69,
      "metadata": {
        "colab": {
          "base_uri": "https://localhost:8080/",
          "height": 256
        },
        "id": "ClJo3wDwmKDl",
        "outputId": "f956bdf8-cc98-456c-e9ef-66301c430758"
      },
      "outputs": [
        {
          "output_type": "display_data",
          "data": {
            "text/plain": [
              "<Figure size 1600x600 with 2 Axes>"
            ],
            "image/png": "[encoded data removed]"
          },
          "metadata": {}
        }
      ],
      "source": [
        "import numpy as np\n",
        "import pandas as pd\n",
        "import matplotlib.pyplot as plt\n",
        "import math\n",
        "\n",
        "# 0. A dict to map your raw column names to nice labels:\n",
        "label_map = {\n",
        "    'host_response_rate':        'Host Response Rate (%)',\n",
        "    'host_total_listings_count': 'Total Listings by Host',\n",
        "    'number_of_reviews':         'Number of Reviews',\n",
        "    'reviews_per_month':         'Reviews per Month',\n",
        "    'amenities_cnt':             'Amenities Count'\n",
        "}\n",
        "\n",
        "def compute_price_changes(df, features, model):\n",
        "    results = []\n",
        "    for col in numerical_cols:\n",
        "        μ = df[col].mean()\n",
        "        σ = df[col].std()\n",
        "\n",
        "        # shift ±0.2·σ\n",
        "        df_l = df.copy()\n",
        "        df_r = df.copy()\n",
        "        df_l[col] -= 0.2 * abs(σ)\n",
        "        df_r[col] += 0.2 * abs(σ)\n",
        "\n",
        "        y0 = model.predict(df[features]).mean()\n",
        "        yL = model.predict(df_l[features]).mean()\n",
        "        yR = model.predict(df_r[features]).mean()\n",
        "\n",
        "        results.append({\n",
        "            'column':      col,\n",
        "            'left_shift':  (yL - y0) / y0 * 100,\n",
        "            'right_shift': (yR - y0) / y0 * 100\n",
        "        })\n",
        "    return pd.DataFrame(results)\n",
        "\n",
        "# 1. Define your numeric cols & features\n",
        "numerical_cols = [\n",
        "    'host_response_rate',\n",
        "    'host_total_listings_count',\n",
        "    'number_of_reviews',\n",
        "    'reviews_per_month',\n",
        "    'amenities_cnt'\n",
        "]\n",
        "features = selected_features2  # whatever feature list you passed to xgb_reg\n",
        "\n",
        "# 2. Split test set at the median price\n",
        "med = test['price'].median()\n",
        "low_df  = test[test['price'] <  med]\n",
        "high_df = test[test['price'] >= med]\n",
        "\n",
        "# 3. Compute price‐change tables\n",
        "low_changes  = compute_price_changes(low_df,  features, xgb_reg)\n",
        "high_changes = compute_price_changes(high_df, features, xgb_reg)\n",
        "\n",
        "# 4. Plot side by side, using mapped labels\n",
        "fig, (ax1, ax2) = plt.subplots(1, 2, figsize=(16, 6), sharey=True)\n",
        "\n",
        "# positions for the bars\n",
        "x_low  = np.arange(len(low_changes))\n",
        "x_high = np.arange(len(high_changes))\n",
        "\n",
        "# Low‐priced houses\n",
        "ax1.bar(x_low, low_changes['left_shift'],\n",
        "        label='–0.2σ shift', hatch='//')\n",
        "ax1.bar(x_low, low_changes['right_shift'],\n",
        "        bottom=low_changes['left_shift'],\n",
        "        label='+0.2σ shift', hatch='\\\\\\\\')\n",
        "ax1.set_title('Low-Price Subset')\n",
        "ax1.set_xticks(x_low)\n",
        "ax1.set_xticklabels(\n",
        "    [label_map.get(col, col) for col in low_changes['column']],\n",
        "    rotation=90\n",
        ")\n",
        "ax1.set_ylabel('Percent Change in Mean Prediction')\n",
        "\n",
        "# High‐priced houses\n",
        "ax2.bar(x_high, high_changes['left_shift'],\n",
        "        label='–0.2σ shift', hatch='//')\n",
        "ax2.bar(x_high, high_changes['right_shift'],\n",
        "        bottom=high_changes['left_shift'],\n",
        "        label='+0.2σ shift', hatch='\\\\\\\\')\n",
        "ax2.set_title('High-Price Subset')\n",
        "ax2.set_xticks(x_high)\n",
        "ax2.set_xticklabels(\n",
        "    [label_map.get(col, col) for col in high_changes['column']],\n",
        "    rotation=90\n",
        ")\n",
        "\n",
        "# Common legend\n",
        "ax1.legend(loc='upper left', bbox_to_anchor=(1.02, 1))\n",
        "\n",
        "plt.tight_layout()\n",
        "plt.show()\n"
      ]
    },
    {
      "cell_type": "code",
      "execution_count": 70,
      "metadata": {
        "colab": {
          "base_uri": "https://localhost:8080/"
        },
        "id": "sUeN2HGprBzQ",
        "outputId": "b0d0eddd-4214-49c2-c423-b666294f0e23"
      },
      "outputs": [
        {
          "output_type": "execute_result",
          "data": {
            "text/plain": [
              "['host_response_rate',\n",
              " 'host_total_listings_count',\n",
              " 'number_of_reviews',\n",
              " 'reviews_per_month',\n",
              " 'amenities_cnt']"
            ]
          },
          "metadata": {},
          "execution_count": 70
        }
      ],
      "source": [
        "numerical_cols"
      ]
    },
    {
      "cell_type": "code",
      "execution_count": 71,
      "metadata": {
        "colab": {
          "base_uri": "https://localhost:8080/"
        },
        "id": "7qd4TxRJ9uF3",
        "outputId": "938bab17-f119-4419-f678-0ee3a735b225"
      },
      "outputs": [
        {
          "output_type": "stream",
          "name": "stdout",
          "text": [
            ">>> Test-set distribution:\n",
            "       count  pct (%)\n",
            "price                \n",
            "0         95    16.32\n",
            "1         85    14.60\n",
            "2        100    17.18\n",
            "3        120    20.62\n",
            "4         71    12.20\n",
            "5        111    19.07 \n",
            "\n",
            "\n",
            ">>> [baseline] train-set distribution:\n",
            "       count  pct (%)\n",
            "price                \n",
            "0        403    17.32\n",
            "1        402    17.28\n",
            "2        389    16.72\n",
            "3        475    20.41\n",
            "4        284    12.20\n",
            "5        374    16.07 \n",
            "\n",
            "[baseline] Accuracy: 0.543\n",
            "\n",
            "[baseline] Confusion Matrix (true vs. pred):\n",
            "[[62 18 13  1  0  1]\n",
            " [21 36 19  2  5  2]\n",
            " [16 25 35  5 10  9]\n",
            " [ 3  8 12 77 12  8]\n",
            " [ 2  7 17  6 26 13]\n",
            " [ 1  4  8  3 15 80]] \n",
            "\n",
            "[baseline] Classification Report:\n",
            "              precision    recall  f1-score   support\n",
            "\n",
            "       Bin 0       0.59      0.65      0.62        95\n",
            "       Bin 1       0.37      0.42      0.39        85\n",
            "       Bin 2       0.34      0.35      0.34       100\n",
            "       Bin 3       0.82      0.64      0.72       120\n",
            "       Bin 4       0.38      0.37      0.37        71\n",
            "       Bin 5       0.71      0.72      0.71       111\n",
            "\n",
            "    accuracy                           0.54       582\n",
            "   macro avg       0.53      0.53      0.53       582\n",
            "weighted avg       0.56      0.54      0.55       582\n",
            "\n",
            "\n",
            ">>> [uniform] train-set distribution:\n",
            "       count  pct (%)\n",
            "price                \n",
            "0        475    16.67\n",
            "1        475    16.67\n",
            "2        475    16.67\n",
            "3        475    16.67\n",
            "4        475    16.67\n",
            "5        475    16.67 \n",
            "\n",
            "[uniform] Accuracy: 0.540\n",
            "\n",
            "[uniform] Confusion Matrix (true vs. pred):\n",
            "[[62 18 12  1  1  1]\n",
            " [22 34 21  3  4  1]\n",
            " [13 20 36  6 18  7]\n",
            " [ 3  6 13 76 13  9]\n",
            " [ 1  9 16  2 30 13]\n",
            " [ 1  0  9  1 24 76]] \n",
            "\n",
            "[uniform] Classification Report:\n",
            "              precision    recall  f1-score   support\n",
            "\n",
            "       Bin 0       0.61      0.65      0.63        95\n",
            "       Bin 1       0.39      0.40      0.40        85\n",
            "       Bin 2       0.34      0.36      0.35       100\n",
            "       Bin 3       0.85      0.63      0.73       120\n",
            "       Bin 4       0.33      0.42      0.37        71\n",
            "       Bin 5       0.71      0.68      0.70       111\n",
            "\n",
            "    accuracy                           0.54       582\n",
            "   macro avg       0.54      0.53      0.53       582\n",
            "weighted avg       0.57      0.54      0.55       582\n",
            "\n",
            "\n",
            ">>> [right_skew] train-set distribution:\n",
            "       count  pct (%)\n",
            "price                \n",
            "0         34     1.46\n",
            "1        105     4.51\n",
            "2        252    10.83\n",
            "3        472    20.28\n",
            "4        686    29.48\n",
            "5        778    33.43 \n",
            "\n",
            "[right_skew] Accuracy: 0.443\n",
            "\n",
            "[right_skew] Confusion Matrix (true vs. pred):\n",
            "[[ 7 26 38 11  7  6]\n",
            " [ 5 19 31  4 16 10]\n",
            " [ 2 14 31 10 30 13]\n",
            " [ 0  4 13 75 18 10]\n",
            " [ 0  2  7  6 41 15]\n",
            " [ 0  0  3  2 21 85]] \n",
            "\n",
            "[right_skew] Classification Report:\n",
            "              precision    recall  f1-score   support\n",
            "\n",
            "       Bin 0       0.50      0.07      0.13        95\n",
            "       Bin 1       0.29      0.22      0.25        85\n",
            "       Bin 2       0.25      0.31      0.28       100\n",
            "       Bin 3       0.69      0.62      0.66       120\n",
            "       Bin 4       0.31      0.58      0.40        71\n",
            "       Bin 5       0.61      0.77      0.68       111\n",
            "\n",
            "    accuracy                           0.44       582\n",
            "   macro avg       0.44      0.43      0.40       582\n",
            "weighted avg       0.47      0.44      0.42       582\n",
            "\n",
            "\n",
            ">>> [left_skew] train-set distribution:\n",
            "       count  pct (%)\n",
            "price                \n",
            "0        778    33.43\n",
            "1        686    29.48\n",
            "2        472    20.28\n",
            "3        252    10.83\n",
            "4        105     4.51\n",
            "5         34     1.46 \n",
            "\n",
            "[left_skew] Accuracy: 0.459\n",
            "\n",
            "[left_skew] Confusion Matrix (true vs. pred):\n",
            "[[70 15  8  2  0  0]\n",
            " [22 41 20  2  0  0]\n",
            " [15 37 36  4  7  1]\n",
            " [ 4 11 21 77  7  0]\n",
            " [ 2 18 23  7 17  4]\n",
            " [ 3  9 27 13 33 26]] \n",
            "\n",
            "[left_skew] Classification Report:\n",
            "              precision    recall  f1-score   support\n",
            "\n",
            "       Bin 0       0.60      0.74      0.66        95\n",
            "       Bin 1       0.31      0.48      0.38        85\n",
            "       Bin 2       0.27      0.36      0.31       100\n",
            "       Bin 3       0.73      0.64      0.68       120\n",
            "       Bin 4       0.27      0.24      0.25        71\n",
            "       Bin 5       0.84      0.23      0.37       111\n",
            "\n",
            "    accuracy                           0.46       582\n",
            "   macro avg       0.50      0.45      0.44       582\n",
            "weighted avg       0.53      0.46      0.46       582\n",
            "\n",
            "\n",
            ">>> [middle_peak] train-set distribution:\n",
            "       count  pct (%)\n",
            "price                \n",
            "0         89     3.82\n",
            "1        358    15.38\n",
            "2        717    30.81\n",
            "3        716    30.77\n",
            "4        358    15.38\n",
            "5         89     3.82 \n",
            "\n",
            "[middle_peak] Accuracy: 0.399\n",
            "\n",
            "[middle_peak] Confusion Matrix (true vs. pred):\n",
            "[[ 8 38 46  2  1  0]\n",
            " [ 4 29 48  3  1  0]\n",
            " [ 4 20 51 10 14  1]\n",
            " [ 0  6 20 79 13  2]\n",
            " [ 0  5 24  8 31  3]\n",
            " [ 0  1 16  8 52 34]] \n",
            "\n",
            "[middle_peak] Classification Report:\n",
            "              precision    recall  f1-score   support\n",
            "\n",
            "       Bin 0       0.50      0.08      0.14        95\n",
            "       Bin 1       0.29      0.34      0.32        85\n",
            "       Bin 2       0.25      0.51      0.33       100\n",
            "       Bin 3       0.72      0.66      0.69       120\n",
            "       Bin 4       0.28      0.44      0.34        71\n",
            "       Bin 5       0.85      0.31      0.45       111\n",
            "\n",
            "    accuracy                           0.40       582\n",
            "   macro avg       0.48      0.39      0.38       582\n",
            "weighted avg       0.51      0.40      0.40       582\n",
            "\n"
          ]
        }
      ],
      "source": [
        "import pandas as pd\n",
        "import numpy as np\n",
        "from xgboost import XGBClassifier\n",
        "from sklearn.metrics import (\n",
        "    accuracy_score,\n",
        "    confusion_matrix,\n",
        "    classification_report\n",
        ")\n",
        "from sklearn.utils import resample\n",
        "\n",
        "# ─── 0. LOAD YOUR DATA ──────────────────────────────────────────────────────────\n",
        "features   = selected_features2   # your feature list\n",
        "target_col = 'price'             # already binned: e.g. 0,1,2,...,N-1\n",
        "\n",
        "# discover all classes (bins), sorted\n",
        "classes = sorted(train[target_col].unique())\n",
        "y_test  = test[target_col].values\n",
        "\n",
        "# ─── 0.1 SHOW TEST-SET DISTRIBUTION ────────────────────────────────────────────\n",
        "test_counts = test[target_col].value_counts().sort_index()\n",
        "test_pct    = (test_counts / test_counts.sum() * 100).round(2)\n",
        "test_dist   = pd.DataFrame({'count': test_counts, 'pct (%)': test_pct})\n",
        "\n",
        "print(\">>> Test-set distribution:\")\n",
        "print(test_dist, \"\\n\")\n",
        "\n",
        "# ─── 1. REBALANCING HELPERS ────────────────────────────────────────────────────\n",
        "def rebalance_uniform(df):\n",
        "    \"\"\"Oversample each class to the size of the largest class.\"\"\"\n",
        "    max_n = df[target_col].value_counts().max()\n",
        "    parts = []\n",
        "    for cls in classes:\n",
        "        cls_df = df[df[target_col] == cls]\n",
        "        parts.append(resample(\n",
        "            cls_df,\n",
        "            replace=True,\n",
        "            n_samples=max_n,\n",
        "            random_state=42\n",
        "        ))\n",
        "    return pd.concat(parts)\n",
        "\n",
        "def rebalance_skew_bell(df, skew_side='right'):\n",
        "    \"\"\"\n",
        "    Oversample bins according to a bell-curve peaking at one extreme.\n",
        "    skew_side='right' peaks at the highest bin, 'left' at the lowest.\n",
        "    \"\"\"\n",
        "    N = len(df)\n",
        "    idx = np.arange(len(classes))\n",
        "    mu = idx[-1] if skew_side == 'right' else idx[0]\n",
        "    sigma = len(classes) / 3.0\n",
        "    pdf = np.exp(-0.5 * ((idx - mu) / sigma) ** 2)\n",
        "    weights = pdf / pdf.sum()\n",
        "\n",
        "    counts = np.round(weights * N).astype(int)\n",
        "    diff = N - counts.sum()\n",
        "    peak_idx = int(mu)\n",
        "    counts[peak_idx] += diff\n",
        "\n",
        "    parts = []\n",
        "    for cls, cnt in zip(classes, counts):\n",
        "        cls_df = df[df[target_col] == cls]\n",
        "        parts.append(resample(\n",
        "            cls_df,\n",
        "            replace=True,\n",
        "            n_samples=cnt,\n",
        "            random_state=42\n",
        "        ))\n",
        "    return pd.concat(parts)\n",
        "\n",
        "def rebalance_middle_bell(df):\n",
        "    \"\"\"\n",
        "    Oversample bins according to a bell-curve peaking at the center bin(s).\n",
        "    \"\"\"\n",
        "    N = len(df)\n",
        "    idx = np.arange(len(classes))\n",
        "    mu = idx.mean()  # center of classes\n",
        "    sigma = len(classes) / 5.0\n",
        "    pdf = np.exp(-0.5 * ((idx - mu) / sigma) ** 2)\n",
        "    weights = pdf / pdf.sum()\n",
        "\n",
        "    counts = np.round(weights * N).astype(int)\n",
        "    diff = N - counts.sum()\n",
        "    peak_idx = int(round(mu))\n",
        "    counts[peak_idx] += diff\n",
        "\n",
        "    parts = []\n",
        "    for cls, cnt in zip(classes, counts):\n",
        "        cls_df = df[df[target_col] == cls]\n",
        "        parts.append(resample(\n",
        "            cls_df,\n",
        "            replace=True,\n",
        "            n_samples=cnt,\n",
        "            random_state=42\n",
        "        ))\n",
        "    return pd.concat(parts)\n",
        "\n",
        "\n",
        "# ─── 2. SET UP SCENARIOS ────────────────────────────────────────────────────────\n",
        "scenarios = {\n",
        "    'baseline':    train,\n",
        "    'uniform':     rebalance_uniform(train),\n",
        "    'right_skew':  rebalance_skew_bell(train, 'right'),\n",
        "    'left_skew':   rebalance_skew_bell(train, 'left'),\n",
        "    'middle_peak': rebalance_middle_bell(train),\n",
        "}\n",
        "\n",
        "# ─── 3. TRAIN & EVALUATE ─────────────────────────────────────────────────────────\n",
        "for name, df in scenarios.items():\n",
        "    # 3a) show training-set distribution for this scenario\n",
        "    tr_counts = df[target_col].value_counts().sort_index()\n",
        "    tr_pct    = (tr_counts / tr_counts.sum() * 100).round(2)\n",
        "    tr_dist   = pd.DataFrame({'count': tr_counts, 'pct (%)': tr_pct})\n",
        "    print(f\"\\n>>> [{name}] train-set distribution:\")\n",
        "    print(tr_dist, \"\\n\")\n",
        "\n",
        "    # 3b) train classifier\n",
        "    X_tr, y_tr = df[features], df[target_col]\n",
        "    clf = XGBClassifier(\n",
        "        n_estimators=2500,\n",
        "        max_depth=9,\n",
        "        learning_rate=0.01,\n",
        "        subsample=0.8,\n",
        "        colsample_bytree=0.8,\n",
        "        gamma=0.2,\n",
        "        reg_alpha=0.1,\n",
        "        reg_lambda=1.5,\n",
        "        min_child_weight=7,\n",
        "        objective='reg:squarederror',\n",
        "        random_state=42,\n",
        "        n_jobs=-1,\n",
        "        verbosity=0\n",
        "    )\n",
        "    clf.fit(X_tr, y_tr)\n",
        "\n",
        "    # 3c) predict & evaluate on the same test set\n",
        "    y_pred = clf.predict(test[features])\n",
        "    acc    = accuracy_score(y_test, y_pred)\n",
        "    print(f\"[{name}] Accuracy: {acc:.3f}\\n\")\n",
        "\n",
        "    cm = confusion_matrix(y_test, y_pred, labels=classes)\n",
        "    print(f\"[{name}] Confusion Matrix (true vs. pred):\")\n",
        "    print(cm, \"\\n\")\n",
        "\n",
        "    names = [f\"Bin {cls}\" for cls in classes]\n",
        "    print(f\"[{name}] Classification Report:\")\n",
        "    print(classification_report(\n",
        "        y_test,\n",
        "        y_pred,\n",
        "        labels=classes,\n",
        "        target_names=names\n",
        "    ))\n"
      ]
    },
    {
      "cell_type": "code",
      "execution_count": null,
      "metadata": {
        "id": "aGVDDWlts1uL"
      },
      "outputs": [],
      "source": [
        "import numpy as np\n",
        "import matplotlib.pyplot as plt\n",
        "from sklearn.metrics import (\n",
        "    mean_squared_error,\n",
        "    mean_absolute_error,\n",
        "    r2_score\n",
        ")\n",
        "\n",
        "# Assuming X_test, y_test, and xgb_reg are already defined\n",
        "\n",
        "noise_levels = [0, 0.1, 0.5, 1, 2]\n",
        "metrics = {\n",
        "    'rmse': [],\n",
        "    'mae': [],\n",
        "    'r2': []\n",
        "}\n",
        "\n",
        "for noise_level in noise_levels:\n",
        "    # Add Gaussian noise to numerical features in X_test\n",
        "    X_test_noisy = X_test.copy()\n",
        "    numerical_cols = X_test.select_dtypes(include=np.number).columns\n",
        "    noise = np.random.normal(\n",
        "        loc=0,\n",
        "        scale=noise_level,\n",
        "        size=X_test[numerical_cols].shape\n",
        "    )\n",
        "    X_test_noisy[numerical_cols] += noise\n",
        "\n",
        "    # Predict on the noisy test set\n",
        "    y_pred = xgb_reg.predict(X_test_noisy)\n",
        "\n",
        "    # Compute metrics\n",
        "    rmse = np.sqrt(mean_squared_error(y_test, y_pred))\n",
        "    mae  = mean_absolute_error(y_test, y_pred)\n",
        "    r2   = r2_score(y_test, y_pred)\n",
        "\n",
        "    metrics['rmse'].append(rmse)\n",
        "    metrics['mae'].append(mae)\n",
        "    metrics['r2'].append(r2)\n",
        "\n",
        "# --- Plotting all metrics ---\n",
        "fig, ax_err = plt.subplots(figsize=(10, 6))\n",
        "\n",
        "# Plot RMSE and MAE on the left y-axis\n",
        "ax_err.plot(noise_levels, metrics['rmse'], 'o-', label='RMSE')\n",
        "ax_err.plot(noise_levels, metrics['mae'],  's--', label='MAE')\n",
        "ax_err.set_xlabel('Noise Level (Std Dev)')\n",
        "ax_err.set_ylabel('Error', color='tab:blue')\n",
        "ax_err.tick_params(axis='y', labelcolor='tab:blue')\n",
        "\n",
        "# Create a second y-axis for R²\n",
        "ax_r2 = ax_err.twinx()\n",
        "ax_r2.plot(noise_levels, metrics['r2'], 'd-.', label='R² Score')\n",
        "ax_r2.set_ylabel('R² Score', color='tab:red')\n",
        "ax_r2.tick_params(axis='y', labelcolor='tab:red')\n",
        "\n",
        "# Combine legends from both axes\n",
        "err_handles, err_labels = ax_err.get_legend_handles_labels()\n",
        "r2_handles,  r2_labels  = ax_r2.get_legend_handles_labels()\n",
        "ax_err.legend(\n",
        "    err_handles + r2_handles,\n",
        "    err_labels  + r2_labels,\n",
        "    loc='best'\n",
        ")\n",
        "\n",
        "plt.title('XGBoost Regression Performance under Increasing Gaussian Noise')\n",
        "plt.xticks(noise_levels)\n",
        "ax_err.grid(True)\n",
        "plt.show()\n"
      ]
    },
    {
      "cell_type": "code",
      "execution_count": null,
      "metadata": {
        "id": "DPJD4ksKs1rf"
      },
      "outputs": [],
      "source": [
        "import numpy as np\n",
        "import pandas as pd\n",
        "import matplotlib.pyplot as plt\n",
        "from IPython.display import display\n",
        "from sklearn.metrics import (\n",
        "    mean_squared_error, mean_absolute_error,\n",
        "    median_absolute_error, mean_absolute_percentage_error,\n",
        "    max_error, r2_score, explained_variance_score\n",
        ")\n",
        "\n",
        "# --- Assume X_test, y_test, and xgb_reg are already defined in your notebook ---\n",
        "\n",
        "noise_levels = [0, 0.1, 0.3, 0.5, 0.8, 1]\n",
        "metrics = {\n",
        "    'rmse': [],\n",
        "    'mae': [],\n",
        "    'medae': [],\n",
        "    'mape': [],\n",
        "    'max_error': [],\n",
        "    'r2': [],\n",
        "    'explained_var': []\n",
        "}\n",
        "\n",
        "# Compute all metrics across noise levels\n",
        "for nl in noise_levels:\n",
        "    Xn = X_test.copy()\n",
        "    num_cols = Xn.select_dtypes(include=np.number).columns\n",
        "    Xn[num_cols] += np.random.normal(0, nl, size=Xn[num_cols].shape)\n",
        "    y_pred = xgb_reg.predict(Xn)\n",
        "\n",
        "    metrics['rmse'].append(np.sqrt(mean_squared_error(y_test, y_pred)))\n",
        "    metrics['mae'].append(mean_absolute_error(y_test, y_pred))\n",
        "    metrics['medae'].append(median_absolute_error(y_test, y_pred))\n",
        "    # metrics['mape'].append(mean_absolute_percentage_error(y_test, y_pred))\n",
        "    metrics['max_error'].append(max_error(y_test, y_pred))\n",
        "    metrics['r2'].append(r2_score(y_test, y_pred))\n",
        "    metrics['explained_var'].append(explained_variance_score(y_test, y_pred))\n",
        "\n",
        "# Build a DataFrame for baseline (noise=0)\n",
        "baseline_df = pd.DataFrame({\n",
        "    'Metric': ['RMSE',\n",
        "               'MAE',\n",
        "               'MedAE',\n",
        "              #  'MAPE',\n",
        "               'Max Error', 'R² Score', 'Explained Var'],\n",
        "    'Baseline (no noise)': [\n",
        "        metrics['rmse'][0],\n",
        "        metrics['mae'][0],\n",
        "        metrics['medae'][0],\n",
        "        # metrics['mape'][0],\n",
        "        metrics['max_error'][0],\n",
        "        metrics['r2'][0],\n",
        "        metrics['explained_var'][0],\n",
        "    ]\n",
        "})\n",
        "baseline_df.set_index('Metric', inplace=True)\n",
        "\n",
        "# Pretty display with styling\n",
        "display(\n",
        "    baseline_df.style\n",
        "               .format(\"{:.3f}\")\n",
        "               .set_caption(\"Baseline Performance (Noise = 0)\")\n",
        "               .background_gradient(cmap='Blues')\n",
        ")\n",
        "\n",
        "# Optionally, plot metrics vs. noise as before\n",
        "fig, ax_err = plt.subplots(figsize=(12, 6))\n",
        "ax_err.plot(noise_levels, metrics['rmse'],      'o-',  label='RMSE')\n",
        "ax_err.plot(noise_levels, metrics['mae'],       's--', label='MAE')\n",
        "ax_err.plot(noise_levels, metrics['medae'],     '^-',  label='MedAE')\n",
        "# ax_err.plot(noise_levels, metrics['mape'],      'v:',  label='MAPE')\n",
        "ax_err.plot(noise_levels, metrics['max_error'], 'd-.', label='Max Error')\n",
        "ax_err.set_xlabel('Noise Level (Std Dev)')\n",
        "ax_err.set_ylabel('Error', color='tab:blue')\n",
        "ax_err.tick_params(axis='y', labelcolor='tab:blue')\n",
        "\n",
        "ax_score = ax_err.twinx()\n",
        "ax_score.plot(noise_levels, metrics['r2'],            'p-',  label='R² Score')\n",
        "ax_score.plot(noise_levels, metrics['explained_var'], 'h--', label='Explained Var')\n",
        "ax_score.set_ylabel('Score', color='tab:red')\n",
        "ax_score.tick_params(axis='y', labelcolor='tab:red')\n",
        "\n",
        "h1, l1 = ax_err.get_legend_handles_labels()\n",
        "h2, l2 = ax_score.get_legend_handles_labels()\n",
        "ax_err.legend(h1 + h2, l1 + l2, loc='upper right')\n",
        "\n",
        "plt.title('XGBoost Regression: Multiple Metrics vs. Gaussian Noise')\n",
        "plt.xticks(noise_levels)\n",
        "ax_err.grid(True)\n",
        "plt.show()\n"
      ]
    },
    {
      "cell_type": "code",
      "execution_count": null,
      "metadata": {
        "id": "kL8XMT-NAUXN"
      },
      "outputs": [],
      "source": [
        "import numpy as np\n",
        "import pandas as pd\n",
        "import matplotlib.pyplot as plt\n",
        "from IPython.display import display\n",
        "from sklearn.metrics import (\n",
        "    mean_squared_error,\n",
        "    mean_absolute_error,\n",
        "    r2_score\n",
        ")\n",
        "\n",
        "# --- assume X_test, y_test, xgb_reg are already defined ---\n",
        "\n",
        "# Identify numeric columns\n",
        "numerical_cols = X_test.select_dtypes(include=np.number).columns\n",
        "\n",
        "# Baseline performance (no noise)\n",
        "y_pred_base = xgb_reg.predict(X_test)\n",
        "baseline_rmse = np.sqrt(mean_squared_error(y_test, y_pred_base))\n",
        "baseline_mae = mean_absolute_error(y_test, y_pred_base)\n",
        "baseline_r2 = r2_score(y_test, y_pred_base)\n",
        "\n",
        "# Containers for noisy performance\n",
        "rmse_list, mae_list, r2_list = [], [], []\n",
        "\n",
        "# Apply noise = 0.1 * std(col) to each feature individually\n",
        "for col in numerical_cols:\n",
        "    Xn = X_test.copy()\n",
        "    std = X_test[col].std()\n",
        "    Xn[col] += np.random.normal(0, 0.1 * std, size=Xn[col].shape)\n",
        "    y_pred = xgb_reg.predict(Xn)\n",
        "    rmse_list.append(np.sqrt(mean_squared_error(y_test, y_pred)))\n",
        "    mae_list.append(mean_absolute_error(y_test, y_pred))\n",
        "    r2_list.append(r2_score(y_test, y_pred))\n",
        "\n",
        "# Build results DataFrame\n",
        "results_df = pd.DataFrame({\n",
        "    'RMSE':     rmse_list,\n",
        "    'MAE':      mae_list,\n",
        "    'R² Score': r2_list\n",
        "}, index=numerical_cols)\n",
        "\n",
        "# Display styled table\n",
        "display(\n",
        "    results_df.style\n",
        "              .format(\"{:.3f}\")\n",
        "              .set_caption(\"Performance with 0.1×StdDev Noise per Feature\")\n",
        "              .background_gradient(cmap='Oranges')\n",
        ")\n",
        "\n",
        "\n"
      ]
    },
    {
      "cell_type": "code",
      "execution_count": null,
      "metadata": {
        "id": "jUoaBBcMBoRZ"
      },
      "outputs": [],
      "source": [
        "# Combined plot: bars for errors, line for R², plus baseline lines\n",
        "fig, ax_err = plt.subplots(figsize=(12, 6))\n",
        "idx = np.arange(len(numerical_cols))\n",
        "width = 0.35\n",
        "\n",
        "# Bars for RMSE and MAE (noisy)\n",
        "ax_err.bar(idx - width/2, results_df['RMSE'], width, label='RMSE (noisy)')\n",
        "ax_err.bar(idx + width/2, results_df['MAE'],  width, label='MAE (noisy)')\n",
        "\n",
        "# Baseline error lines\n",
        "ax_err.hlines(baseline_rmse, xmin=-0.5, xmax=len(numerical_cols)-0.5,\n",
        "              linestyles='--', label='RMSE (baseline)')\n",
        "ax_err.hlines(baseline_mae, xmin=-0.5, xmax=len(numerical_cols)-0.5,\n",
        "              linestyles=':',  label='MAE (baseline)', color = 'orange')\n",
        "\n",
        "ax_err.set_xlabel('Feature')\n",
        "ax_err.set_ylabel('Error')\n",
        "ax_err.set_xticks(idx)\n",
        "ax_err.set_xticklabels(numerical_cols, rotation=45, ha='right')\n",
        "\n",
        "# Secondary axis for R²\n",
        "ax_r2 = ax_err.twinx()\n",
        "ax_r2.plot(idx, results_df['R² Score'], marker='o', label='R² (noisy)', color = 'red')\n",
        "ax_r2.hlines(baseline_r2, xmin=-0.5, xmax=len(numerical_cols)-0.5,\n",
        "             linestyles='-.', label='R² (baseline)', color = 'red')\n",
        "ax_r2.set_ylabel('R² Score')\n",
        "\n",
        "# Combine legends from both axes\n",
        "handles_err, labels_err = ax_err.get_legend_handles_labels()\n",
        "handles_r2,  labels_r2  = ax_r2.get_legend_handles_labels()\n",
        "ax_err.legend(handles_err + handles_r2, labels_err + labels_r2, loc='upper left')\n",
        "\n",
        "plt.title('XGBoost: Noise Impact on Individual Features vs. Baseline')\n",
        "plt.tight_layout()\n",
        "plt.show()"
      ]
    },
    {
      "cell_type": "code",
      "execution_count": 76,
      "metadata": {
        "id": "QD0vefPm3hoi"
      },
      "outputs": [],
      "source": [
        "# Hyperparameter grid for LightGBM\n",
        "# lgb_param_grid = {S\n",
        "#     'n_estimators': [500, 1000, 2000],\n",
        "#     'learning_rate': [0.01, 0.05, 0.1],\n",
        "#     'num_leaves': [31, 63, 127],\n",
        "#     'max_depth': [-1, 5, 10],\n",
        "#     'min_child_samples': [20, 50, 100],\n",
        "#     'subsample': [0.7, 0.9, 1.0],\n",
        "#     'colsample_bytree': [0.7, 0.9, 1.0],\n",
        "#     'reg_alpha': [0.0, 0.1, 0.5],\n",
        "#     'reg_lambda': [0.0, 0.1, 0.5],\n",
        "#     'min_split_gain': [0.0, 0.1],\n",
        "# }\n",
        "\n",
        "# lgb_reg = LGBMRegressor(\n",
        "#     objective='regression',\n",
        "#     random_state=42,\n",
        "#     force_col_wise=True\n",
        "# )\n",
        "\n",
        "# # RandomizedSearchCV for LightGBM\n",
        "# lgb_random_search = RandomizedSearchCV(\n",
        "#     estimator=lgb_reg,\n",
        "#     param_distributions=lgb_param_grid,\n",
        "#     n_iter=20,\n",
        "#     scoring=rmse_scorer,\n",
        "#     cv=cv,\n",
        "#     verbose=1,\n",
        "#     random_state=42,\n",
        "#     n_jobs=-1\n",
        "# )\n",
        "\n",
        "# # Perform hyperparameter tuning\n",
        "# start_time = time.time()\n",
        "# lgb_random_search.fit(X_train_full, y_train_full)\n",
        "# end_time = time.time()\n",
        "# elapsed_time = end_time - start_time\n",
        "# print(f\"Time taken for tuning: {elapsed_time:.2f} seconds\")\n",
        "# time_cost['lgb'] = elapsed_time\n",
        "\n",
        "# # Best hyperparameters\n",
        "# lgb_best_params = lgb_random_search.best_params_\n",
        "# print(\"Best LightGBM Hyperparameters:\")\n",
        "# print(lgb_best_params)\n",
        "\n",
        "# best_lgb_reg = LGBMRegressor(\n",
        "#     objective='regression',\n",
        "#     random_state=42,\n",
        "#     **lgb_best_params\n",
        "# )"
      ]
    },
    {
      "cell_type": "code",
      "execution_count": 77,
      "metadata": {
        "id": "qrW1tut_MUUg"
      },
      "outputs": [],
      "source": [
        "import pandas as pd\n",
        "import numpy as np\n",
        "\n",
        "# Models\n",
        "import xgboost as xgb\n",
        "from xgboost import XGBRegressor\n",
        "import lightgbm as lgb\n",
        "from lightgbm import LGBMRegressor\n",
        "from sklearn.ensemble import RandomForestRegressor, StackingRegressor\n",
        "\n",
        "# Hyperparameter tuning and cross-validation\n",
        "from sklearn.model_selection import train_test_split, RandomizedSearchCV, cross_val_score, KFold\n",
        "from sklearn.metrics import root_mean_squared_error, make_scorer\n",
        "import tensorflow as tf\n",
        "\n",
        "# Suppress warnings\n",
        "import warnings\n",
        "warnings.filterwarnings('ignore')"
      ]
    },
    {
      "cell_type": "code",
      "execution_count": 78,
      "metadata": {
        "id": "qUShiviQMdya"
      },
      "outputs": [],
      "source": [
        "rmse_scorer = make_scorer(root_mean_squared_error, greater_is_better=False)\n",
        "cv = KFold(n_splits=10, shuffle=True, random_state=42)\n",
        "import time\n",
        "X_train_full = train[selected_features2]\n",
        "y_train_full = train['price']"
      ]
    },
    {
      "cell_type": "code",
      "execution_count": 79,
      "metadata": {
        "id": "5xL98tYu3hoi",
        "colab": {
          "base_uri": "https://localhost:8080/"
        },
        "outputId": "7ab9927c-c428-4fd6-b4d7-95a739af7f1d"
      },
      "outputs": [
        {
          "output_type": "stream",
          "name": "stdout",
          "text": [
            "Fitting 10 folds for each of 20 candidates, totalling 200 fits\n",
            "Time taken for tuning: 987.76 seconds\n",
            "Best Random Forest Hyperparameters:\n",
            "{'n_estimators': 500, 'min_samples_split': 2, 'min_samples_leaf': 1, 'max_features': 0.8, 'max_depth': 20}\n"
          ]
        }
      ],
      "source": [
        "# Hyperparameter grid for Random Forest\n",
        "rf_param_grid = {\n",
        "    'n_estimators': [200, 500, 1000],\n",
        "    'max_depth': [10, 20, 25],\n",
        "    'max_features': ['sqrt', 'log2', 0.8],\n",
        "    'min_samples_split': [2],\n",
        "    'min_samples_leaf': [1],\n",
        "}\n",
        "\n",
        "rf_reg = RandomForestRegressor(random_state=42)\n",
        "\n",
        "# RandomizedSearchCV for Random Forest\n",
        "rf_random_search = RandomizedSearchCV(\n",
        "    estimator=rf_reg,\n",
        "    param_distributions=rf_param_grid,\n",
        "    n_iter=20,\n",
        "    scoring=rmse_scorer,\n",
        "    cv=cv,\n",
        "    verbose=1,\n",
        "    random_state=42,\n",
        "    n_jobs=-1\n",
        ")\n",
        "\n",
        "# Perform hyperparameter tuning\n",
        "start_time = time.time()\n",
        "rf_random_search.fit(X_train_full, y_train_full)\n",
        "end_time = time.time()\n",
        "elapsed_time = end_time - start_time\n",
        "print(f\"Time taken for tuning: {elapsed_time:.2f} seconds\")\n",
        "time_cost['rf'] = elapsed_time\n",
        "\n",
        "# Best hyperparameters\n",
        "rf_best_params = rf_random_search.best_params_\n",
        "print(\"Best Random Forest Hyperparameters:\")\n",
        "print(rf_best_params)\n",
        "best_rf_reg = RandomForestRegressor(\n",
        "    random_state=42,\n",
        "    **rf_best_params\n",
        ")"
      ]
    },
    {
      "cell_type": "code",
      "execution_count": null,
      "metadata": {
        "id": "V11OQxZHDRha"
      },
      "outputs": [],
      "source": [
        "!pip install catboost"
      ]
    },
    {
      "cell_type": "code",
      "execution_count": null,
      "metadata": {
        "id": "7MS_APi_3hoi",
        "colab": {
          "base_uri": "https://localhost:8080/"
        },
        "outputId": "959fd96f-4411-4126-f075-1841196050c7"
      },
      "outputs": [
        {
          "metadata": {
            "tags": null
          },
          "name": "stdout",
          "output_type": "stream",
          "text": [
            "Fitting 10 folds for each of 20 candidates, totalling 200 fits\n"
          ]
        }
      ],
      "source": [
        "from catboost import CatBoostRegressor\n",
        "\n",
        "cat_param_grid = {\n",
        "    'iterations': [500, 1000, 2000],\n",
        "    'learning_rate': [0.01, 0.05, 0.1],\n",
        "    'depth': [4, 6, 10],\n",
        "    'l2_leaf_reg': [1, 3, 5],\n",
        "    'bagging_temperature': [0, 1, 3],\n",
        "    'border_count': [32, 64, 128],\n",
        "}\n",
        "\n",
        "cat_reg = CatBoostRegressor(random_state=42)\n",
        "\n",
        "# RandomizedSearchCV for Random Forest\n",
        "cat_random_search = RandomizedSearchCV(\n",
        "    estimator=cat_reg,\n",
        "    param_distributions=cat_param_grid,\n",
        "    n_iter=20,\n",
        "    scoring=rmse_scorer,\n",
        "    cv=cv,\n",
        "    verbose=1,\n",
        "    random_state=42,\n",
        "    n_jobs=-1\n",
        ")\n",
        "\n",
        "# Perform hyperparameter tuning\n",
        "start_time = time.time()\n",
        "cat_random_search.fit(X_train_full, y_train_full)\n",
        "end_time = time.time()\n",
        "elapsed_time = end_time - start_time\n",
        "print(f\"Time taken for tuning: {elapsed_time:.2f} seconds\")\n",
        "time_cost['cat'] = elapsed_time\n",
        "\n",
        "# Best hyperparameters\n",
        "cat_best_params = cat_random_search.best_params_\n",
        "print(\"Best CatBoost Hyperparameters:\")\n",
        "print(cat_best_params)\n",
        "best_cat_reg = CatBoostRegressor(\n",
        "    random_state=42,\n",
        "    **cat_best_params\n",
        ")"
      ]
    },
    {
      "cell_type": "code",
      "execution_count": null,
      "metadata": {
        "id": "cMa460023hoi"
      },
      "outputs": [],
      "source": [
        "from sklearn.ensemble import ExtraTreesRegressor\n",
        "etr_param_grid = {\n",
        "    'n_estimators': [100, 300],\n",
        "    'max_depth': [None, 10, 20],\n",
        "    'max_features': ['auto', 'sqrt'],\n",
        "}\n",
        "\n",
        "etr_reg = ExtraTreesRegressor(random_state=42)\n",
        "\n",
        "# RandomizedSearchCV for Random Forest\n",
        "etr_random_search = RandomizedSearchCV(\n",
        "    estimator=etr_reg,\n",
        "    param_distributions=etr_param_grid,\n",
        "    n_iter=20,\n",
        "    scoring=rmse_scorer,\n",
        "    cv=cv,\n",
        "    verbose=1,\n",
        "    random_state=42,\n",
        "    n_jobs=-1\n",
        ")\n",
        "\n",
        "# Perform hyperparameter tuning\n",
        "start_time = time.time()\n",
        "etr_random_search.fit(X_train_full, y_train_full)\n",
        "end_time = time.time()\n",
        "elapsed_time = end_time - start_time\n",
        "print(f\"Time taken for tuning: {elapsed_time:.2f} seconds\")\n",
        "time_cost['etr'] = elapsed_time\n",
        "\n",
        "# Best hyperparameters\n",
        "etr_best_params = etr_random_search.best_params_\n",
        "print(\"Best CatBoost Hyperparameters:\")\n",
        "print(etr_best_params)\n",
        "best_etr_reg = ExtraTreesRegressor(\n",
        "    random_state=42,\n",
        "    **etr_best_params\n",
        ")\n",
        "# Initialize the Extra Trees Regressor with the predefined parameters\n",
        "best_etr_reg = ExtraTreesRegressor(**etr_best_params)"
      ]
    },
    {
      "cell_type": "code",
      "execution_count": null,
      "metadata": {
        "id": "vrl62HSe3hoi"
      },
      "outputs": [],
      "source": [
        "# etr_param_grid = {\n",
        "#     'n_estimators': 800,\n",
        "#     'max_depth': 20,\n",
        "#     'min_samples_split': 2,\n",
        "#     'min_samples_leaf': 2,\n",
        "#     'max_features': 0.8,\n",
        "#     'max_leaf_nodes': None,\n",
        "#     'min_impurity_decrease': 0.05,\n",
        "#     'bootstrap': False,\n",
        "#     'criterion': 'squared_error',\n",
        "#     'random_state': 42\n",
        "# }\n",
        "# best_etr_reg = ExtraTreesRegressor(**etr_param_grid)"
      ]
    },
    {
      "cell_type": "code",
      "execution_count": null,
      "metadata": {
        "id": "hD8DsHUh3hoi"
      },
      "outputs": [],
      "source": [
        "xgb_best_params = {'subsample': 0.8, 'reg_lambda': 1.5, 'reg_alpha': 0.1, 'n_estimators': 2000, 'min_child_weight': 7, 'max_depth': 9, 'learning_rate': 0.01, 'gamma': 0.2, 'colsample_bytree': 0.9}\n",
        "best_xgb_reg = XGBRegressor(\n",
        "    objective='reg:squarederror',\n",
        "    random_state=42,\n",
        "    **xgb_best_params\n",
        ")\n",
        "\n",
        "best_xgb_reg.fit(X_train_full, y_train_full)\n",
        "\n",
        "# Train each with full train and store test rmse\n"
      ]
    },
    {
      "cell_type": "code",
      "execution_count": null,
      "metadata": {
        "id": "rYZucFVM3hoi"
      },
      "outputs": [],
      "source": [
        "# best_lgb_reg = LGBMRegressor(\n",
        "#     objective='regression',\n",
        "#     random_state=42,\n",
        "#     **lgb_best_params\n",
        "# )\n",
        "\n",
        "# # # Cross-validation scores\n",
        "# # lgb_cv_scores = cross_val_score(\n",
        "# #     best_lgb_reg,\n",
        "# #     X_train_full,\n",
        "# #     y_train_full,\n",
        "# #     cv=cv,\n",
        "# #     scoring=rmse_scorer,\n",
        "# #     n_jobs=-1\n",
        "# # )\n",
        "\n",
        "# # lgb_cv_rmse_scores = -lgb_cv_scores\n",
        "# # print(\"LightGBM Cross-validated RMSE scores:\", lgb_cv_rmse_scores)\n",
        "# # print(\"LightGBM Mean CV RMSE:\", lgb_cv_rmse_scores.mean())\n",
        "\n",
        "# # Fit the model on the entire training data\n",
        "# best_lgb_reg.fit(X_train_full, y_train_full)"
      ]
    },
    {
      "cell_type": "code",
      "execution_count": null,
      "metadata": {
        "id": "a41uO8NZ3hoi"
      },
      "outputs": [],
      "source": [
        "best_rf_reg = RandomForestRegressor(\n",
        "    random_state=42,\n",
        "    **rf_best_params\n",
        ")\n",
        "\n",
        "# # Cross-validation scores\n",
        "# rf_cv_scores = cross_val_score(\n",
        "#     best_rf_reg,\n",
        "#     X_train_full,\n",
        "#     y_train_full,\n",
        "#     cv=cv,\n",
        "#     scoring=rmse_scorer,\n",
        "#     n_jobs=-1\n",
        "# )\n",
        "\n",
        "# rf_cv_rmse_scores = -rf_cv_scores\n",
        "# print(\"Random Forest Cross-validated RMSE scores:\", rf_cv_rmse_scores)\n",
        "# print(\"Random Forest Mean CV RMSE:\", rf_cv_rmse_scores.mean())\n",
        "\n",
        "# Fit the model on the entire training data\n",
        "best_rf_reg.fit(X_train_full, y_train_full)"
      ]
    },
    {
      "cell_type": "code",
      "execution_count": null,
      "metadata": {
        "id": "pq4A7YLm3hoi"
      },
      "outputs": [],
      "source": [
        "best_cat_reg = CatBoostRegressor(\n",
        "    random_state=42,\n",
        "    **cat_best_params\n",
        ")\n",
        "\n",
        "best_cat_reg.fit(X_train_full, y_train_full)"
      ]
    },
    {
      "cell_type": "code",
      "execution_count": null,
      "metadata": {
        "id": "6VikkVtgaYXH"
      },
      "outputs": [],
      "source": [
        "xgb_best_params = {'subsample': 0.8, 'reg_lambda': 1.5, 'reg_alpha': 0.1, 'n_estimators': 2000, 'min_child_weight': 7, 'max_depth': 9, 'learning_rate': 0.01, 'gamma': 0.2, 'colsample_bytree': 0.9}\n",
        "best_xgb_reg = XGBRegressor(\n",
        "    objective='reg:squarederror',\n",
        "    random_state=42,\n",
        "    **xgb_best_params\n",
        ")\n",
        "\n",
        "rf_best_params = {'n_estimators': 1000, 'min_samples_split': 2, 'min_samples_leaf': 1, 'max_features': 'sqrt', 'max_depth': 20}\n",
        "best_rf_reg = RandomForestRegressor(\n",
        "    random_state=42,\n",
        "    **rf_best_params\n",
        ")\n",
        "\n",
        "from catboost import CatBoostRegressor\n",
        "cat_best_params = {'learning_rate': 0.05, 'l2_leaf_reg': 3, 'iterations': 1000, 'depth': 10, 'border_count': 64, 'bagging_temperature': 0}\n",
        "best_cat_reg = CatBoostRegressor(\n",
        "    random_state=42,\n",
        "    **cat_best_params\n",
        ")\n",
        "from sklearn.ensemble import ExtraTreesRegressor\n",
        "etr_best_params = {'n_estimators': 300, 'max_features': 'sqrt', 'max_depth': None}\n",
        "best_etr_reg = ExtraTreesRegressor(\n",
        "    random_state=42,\n",
        "    **etr_best_params\n",
        ")\n"
      ]
    },
    {
      "cell_type": "code",
      "execution_count": null,
      "metadata": {
        "id": "rcG6QMPoDDB2"
      },
      "outputs": [],
      "source": [
        "best_xgb_reg.fit(X_train_full, y_train_full)\n",
        "best_rf_reg.fit(X_train_full, y_train_full)\n",
        "best_cat_reg.fit(X_train_full, y_train_full)\n",
        "best_etr_reg.fit(X_train_full, y_train_full)"
      ]
    },
    {
      "cell_type": "code",
      "execution_count": null,
      "metadata": {
        "id": "XSon5tGK3hoi"
      },
      "outputs": [],
      "source": [
        "from sklearn.linear_model import Ridge\n",
        "from sklearn.model_selection import GridSearchCV\n",
        "\n",
        "estimators = [\n",
        "    ('xgb', best_xgb_reg),\n",
        "    ('cat', best_cat_reg),\n",
        "    # ('lgb', best_lgb_reg),\n",
        "    ('rf', best_rf_reg),\n",
        "    ('etr', best_etr_reg)\n",
        "]\n",
        "\n",
        "stacking_reg = StackingRegressor(\n",
        "    estimators=estimators,\n",
        "    final_estimator=Ridge(alpha=1.0),\n",
        "    cv=cv,\n",
        "    n_jobs=-1\n",
        ")\n",
        "\n",
        "rd_cv_scores = cross_val_score(\n",
        "    stacking_reg,\n",
        "    X_train_full,\n",
        "    y_train_full,\n",
        "    cv=cv,\n",
        "    scoring=rmse_scorer,\n",
        "    n_jobs=-1\n",
        ")\n",
        "\n",
        "rd_cv_rmse_scores = -rd_cv_scores\n",
        "print(\"Ridge Cross-validated RMSE scores:\", rd_cv_rmse_scores)\n",
        "print(\"Ridge Mean CV RMSE:\", rd_cv_rmse_scores.mean())\n",
        "\n",
        "# Fit the stacking regressor\n",
        "stacking_reg.fit(X_train_full, y_train_full)\n"
      ]
    },
    {
      "cell_type": "code",
      "execution_count": null,
      "metadata": {
        "id": "qSO2BIrp3hoi"
      },
      "outputs": [],
      "source": [
        "rd_cv_scores = cross_val_score(\n",
        "    stacking_reg,\n",
        "    X_train_full,\n",
        "    y_train_full,\n",
        "    cv=cv,\n",
        "    scoring=rmse_scorer,\n",
        "    n_jobs=-1\n",
        ")\n",
        "\n",
        "rd_cv_rmse_scores = -rd_cv_scores\n",
        "print(\"Ridge Cross-validated RMSE scores:\", rd_cv_rmse_scores)\n",
        "print(\"Ridge Mean CV RMSE:\", rd_cv_rmse_scores.mean())"
      ]
    },
    {
      "cell_type": "code",
      "execution_count": null,
      "metadata": {
        "id": "K--jN5hk3hoi"
      },
      "outputs": [],
      "source": [
        "# Predict test\n",
        "y_test_pred = stacking_reg.predict(test[selected_features2])\n",
        "# Compute test rmse directly\n",
        "test_rmse = root_mean_squared_error(test['price'], y_test_pred)\n",
        "print(f\"Test RMSE: {test_rmse:.4f}\")\n",
        "\n",
        "# Predict test by each model stacked\n",
        "y_test_pred_xgb = best_xgb_reg.predict(test[selected_features2])\n",
        "y_test_pred_rf = best_rf_reg.predict(test[selected_features2])\n",
        "y_test_pred_cat = best_cat_reg.predict(test[selected_features2])\n",
        "y_test_pred_etr = best_etr_reg.predict(test[selected_features2])\n",
        "\n",
        "# Compute test rmse\n",
        "test_rmse_xgb = root_mean_squared_error(test['price'], y_test_pred_xgb)\n",
        "test_rmse_rf = root_mean_squared_error(test['price'], y_test_pred_rf)\n",
        "test_rmse_cat = root_mean_squared_error(test['price'], y_test_pred_cat)\n",
        "test_rmse_etr = root_mean_squared_error(test['price'], y_test_pred_etr)\n",
        "\n",
        "print(f\"Test RMSE (XGBoost): {test_rmse_xgb:.4f}\")\n",
        "print(f\"Test RMSE (Random Forest): {test_rmse_rf:.4f}\")\n",
        "print(f\"Test RMSE (CatBoost): {test_rmse_cat:.4f}\")\n",
        "print(f\"Test RMSE (Extra Trees): {test_rmse_etr:.4f}\")\n"
      ]
    },
    {
      "cell_type": "code",
      "execution_count": null,
      "metadata": {
        "id": "Yrw2YlttDNb9"
      },
      "outputs": [],
      "source": [
        "# confusion matrix\n",
        "from sklearn.metrics import confusion_matrix\n",
        "import seaborn as sns\n",
        "import matplotlib.pyplot as plt\n",
        "\n",
        "# confusion matrix for stacking regressor\n",
        "# convert to classes\n",
        "converted_pred = convert_to_classes(y_test_pred)\n",
        "cm = confusion_matrix(test['price'], converted_pred)\n",
        "plt.figure(figsize=(10, 8))\n",
        "sns.heatmap(cm, annot=True)"
      ]
    },
    {
      "cell_type": "code",
      "execution_count": null,
      "metadata": {
        "id": "qL8me2eKEFLU"
      },
      "outputs": [],
      "source": [
        "# Compute accuracy\n",
        "from sklearn.metrics import accuracy_score\n",
        "accuracy = accuracy_score(test['price'], converted_pred)\n",
        "print(f\"Accuracy: {accuracy:.4f}\")"
      ]
    },
    {
      "cell_type": "code",
      "execution_count": null,
      "metadata": {
        "id": "JtZENefD3hoi"
      },
      "outputs": [],
      "source": [
        "from xgboost import plot_importance\n",
        "plot_importance(best_xgb_reg)"
      ]
    },
    {
      "cell_type": "code",
      "execution_count": null,
      "metadata": {
        "id": "I0x0gyI13hoi"
      },
      "outputs": [],
      "source": [
        "def convert_to_classes(y_pred):\n",
        "\n",
        "    y_pred_round = np.round(y_pred)\n",
        "    y_pred_clip = np.clip(y_pred_round, 0, 5).astype(int)\n",
        "\n",
        "    return y_pred_clip\n",
        "y_test_pred = stacking_reg.predict(test[selected_features2])\n",
        "y_test_pred = convert_to_classes(y_test_pred)\n",
        "submission = pd.DataFrame({\n",
        "    'id': test['id'],\n",
        "    'price': y_test_pred\n",
        "    })\n",
        "submission.to_csv('submission.csv', index=False, header=['id', 'price'])"
      ]
    },
    {
      "cell_type": "code",
      "execution_count": null,
      "metadata": {
        "id": "jHW6Q6rV3hoj"
      },
      "outputs": [],
      "source": [
        "def convert_to_classes(y_pred):\n",
        "\n",
        "    y_pred_round = np.round(y_pred)\n",
        "    y_pred_clip = np.clip(y_pred_round, 0, 5).astype(int)\n",
        "\n",
        "    return y_pred_clip"
      ]
    },
    {
      "cell_type": "markdown",
      "metadata": {
        "id": "JRMsS2Na3hoj"
      },
      "source": [
        "# Train Neural Network Models"
      ]
    },
    {
      "cell_type": "code",
      "execution_count": null,
      "metadata": {
        "id": "iLNnzk5Z3hoj"
      },
      "outputs": [],
      "source": [
        "# # Compute correlation matrix\n",
        "# corr_matrix = train[selected_features2].corr().abs()\n",
        "\n",
        "# # Identify highly correlated features (threshold > 0.8)\n",
        "# high_corr_var = np.where(corr_matrix > 0.8)\n",
        "# high_corr_var = [(corr_matrix.index[x], corr_matrix.columns[y]) for x, y in zip(*high_corr_var) if x != y and x < y]\n",
        "# print(\"Highly correlated features:\", high_corr_var)"
      ]
    },
    {
      "cell_type": "code",
      "execution_count": null,
      "metadata": {
        "id": "aPtwoIfO3hoj"
      },
      "outputs": [],
      "source": [
        "selected_features2"
      ]
    },
    {
      "cell_type": "code",
      "execution_count": null,
      "metadata": {
        "id": "eedlfd-P3hoj"
      },
      "outputs": [],
      "source": [
        "# selected_features3 = ['longitude',\n",
        "#  'host_total_listings_count',\n",
        "#  'latitude',\n",
        "#  'accommodates',\n",
        "#  'availability_365',\n",
        "#  'amenities_cnt',\n",
        "#  'room_type_encoded',\n",
        "#  'host_acceptance_rate',\n",
        "#  'neighbourhood_cleansed_encoded',\n",
        "#  'days_since_last_review',\n",
        "#  'reviews_per_month',\n",
        "#  'number_of_reviews',\n",
        "#  'House Infrastructure',\n",
        "#  'bathroom_shared',\n",
        "#  'minimum_nights',\n",
        "#  'Kitchen Supplies',\n",
        "#  'maximum_nights',\n",
        "#  'host_response_rate',\n",
        "#  'review_scores_location',\n",
        "#  'review_scores_cleanliness',\n",
        "#  'review_scores_value',\n",
        "#  'bathrooms',\n",
        "#  'review_scores_accuracy',\n",
        "#  'Safety Features',\n",
        "#  'review_scores_communication',\n",
        "#  'review_scores_checkin']"
      ]
    },
    {
      "cell_type": "code",
      "execution_count": null,
      "metadata": {
        "id": "YlRM8svE3hoj"
      },
      "outputs": [],
      "source": [
        "# import pandas as pd\n",
        "# import numpy as np\n",
        "# import tensorflow as tf\n",
        "# from tensorflow import keras\n",
        "# from tensorflow.keras.models import Sequential\n",
        "# from tensorflow.keras.layers import Dense, Dropout\n",
        "# import keras_tuner as kt\n",
        "# from sklearn.model_selection import train_test_split, KFold\n",
        "# from sklearn.preprocessing import StandardScaler\n",
        "# from tensorflow.keras.layers import BatchNormalization\n",
        "# from tensorflow.keras import regularizers\n",
        "# from sklearn.metrics import root_mean_squared_error\n",
        "\n",
        "\n",
        "# # 1. Data Preparation\n",
        "\n",
        "# X, y = train[selected_features3], train['price']\n",
        "\n",
        "# X_train_full, X_val, y_train_full, y_val = train_test_split(\n",
        "#     X, y, test_size=0.2, random_state=42\n",
        "# )\n",
        "\n",
        "# # Feature scaling\n",
        "# scaler = StandardScaler()\n",
        "# X_train_full_scaled = scaler.fit_transform(X_train_full)\n",
        "# X_val_scaled = scaler.transform(X_val)\n",
        "\n",
        "# # Convert to NumPy arrays\n",
        "# X_train_full_scaled_np = np.array(X_train_full_scaled)\n",
        "# y_train_full_np = np.array(y_train_full)\n",
        "# X_val_scaled_np = np.array(X_val_scaled)\n",
        "# y_val_np = np.array(y_val)\n",
        "\n",
        "# # 2. Define the Model-Building Function\n",
        "# def build_model(hp):\n",
        "#     model = Sequential()\n",
        "#     for i in range(hp.Int('num_layers', 1, 3)):\n",
        "#         model.add(Dense(\n",
        "#             units=hp.Int(f'units_{i}', min_value=32, max_value=256, step=32),\n",
        "#             activation=hp.Choice('activation', values=['relu', 'tanh']),\n",
        "#             kernel_regularizer=regularizers.l2(0.001) # add L2 regularization\n",
        "#         ))\n",
        "#         model.add(BatchNormalization())\n",
        "#         model.add(Dropout(rate=0.5))\n",
        "#     model.add(Dense(1))\n",
        "#     model.compile(\n",
        "#         optimizer=keras.optimizers.Adam(\n",
        "#             hp.Float('learning_rate', min_value=1e-5, max_value=1e-3, sampling='LOG')\n",
        "#         ),\n",
        "#         loss='mean_squared_error',\n",
        "#         metrics=[tf.keras.metrics.RootMeanSquaredError()]\n",
        "#     )\n",
        "#     return model\n",
        "\n",
        "# # 3. Hyperparameter Tuning\n",
        "\n",
        "# # Initialize Keras Tuner\n",
        "# tuner = kt.RandomSearch(\n",
        "#     build_model,\n",
        "#     objective='val_root_mean_squared_error',\n",
        "#     max_trials=20,\n",
        "#     executions_per_trial=1,\n",
        "#     directory='keras_tuner_dir',\n",
        "#     project_name='nn_regressor'\n",
        "# )\n",
        "\n",
        "# # Cross-validation setup\n",
        "# kfold = KFold(n_splits=10, shuffle=True, random_state=42)\n",
        "\n",
        "# # Function to run tuner with cross-validation\n",
        "# def run_tuner_cv(tuner, X, y, kfold):\n",
        "#     for train_indices, val_indices in kfold.split(X):\n",
        "#         X_train_cv, X_val_cv = X[train_indices], X[val_indices]\n",
        "#         y_train_cv, y_val_cv = y[train_indices], y[val_indices]\n",
        "\n",
        "#         tuner.search(\n",
        "#             X_train_cv, y_train_cv,\n",
        "#             epochs=50,\n",
        "#             validation_data=(X_val_cv, y_val_cv),\n",
        "#             callbacks=[tf.keras.callbacks.EarlyStopping(patience=3)],\n",
        "#             verbose=0\n",
        "#         )\n",
        "\n",
        "# # Run hyperparameter tuning\n",
        "# run_tuner_cv(tuner, X_train_full_scaled_np, y_train_full_np, kfold)\n",
        "\n",
        "# # Retrieve the best hyperparameters\n",
        "# best_hps = tuner.get_best_hyperparameters(num_trials=1)[0]\n",
        "\n",
        "# print(f\"\"\"\n",
        "# The hyperparameter search is complete. The optimal number of layers is {best_hps.get('num_layers')} with units per layer {[best_hps.get(f'units_{i}') for i in range(best_hps.get('num_layers'))]}.\n",
        "# The optimal activation function is {best_hps.get('activation')}.\n",
        "# The optimal learning rate is {best_hps.get('learning_rate')}.\n",
        "# \"\"\")\n",
        "\n",
        "# # 4. Retrain the Model with Best Hyperparameters\n",
        "\n",
        "# # Build the best model\n",
        "# model = tuner.hypermodel.build(best_hps)\n",
        "\n",
        "# # Function to train the best model with cross-validation\n",
        "# def train_best_model_cv(model, X, y, kfold):\n",
        "#     rmse_scores = []\n",
        "#     fold = 1\n",
        "#     for train_indices, val_indices in kfold.split(X):\n",
        "#         print(f\"Training on Fold {fold}\")\n",
        "#         X_train_cv, X_val_cv = X[train_indices], X[val_indices]\n",
        "#         y_train_cv, y_val_cv = y[train_indices], y[val_indices]\n",
        "\n",
        "#         history = model.fit(\n",
        "#             X_train_cv, y_train_cv,\n",
        "#             epochs=50,\n",
        "#             validation_data=(X_val_cv, y_val_cv),\n",
        "#             callbacks=[tf.keras.callbacks.EarlyStopping(patience=5)],\n",
        "#             verbose=0\n",
        "#         )\n",
        "\n",
        "#         # Evaluate on validation data\n",
        "#         val_rmse = min(history.history['val_root_mean_squared_error'])\n",
        "#         print(f\"Validation RMSE for Fold {fold}: {val_rmse:.4f}\")\n",
        "#         rmse_scores.append(val_rmse)\n",
        "#         fold += 1\n",
        "\n",
        "#     print(f\"Average Validation RMSE: {np.mean(rmse_scores):.4f}\")\n",
        "\n",
        "# # Train the model\n",
        "# train_best_model_cv(model, X_train_full_scaled_np, y_train_full_np, kfold)\n",
        "\n",
        "# # 5. Model Evaluation\n",
        "\n",
        "# # Predict on test data\n",
        "# y_val_pred = model.predict(X_val_scaled_np).flatten()\n",
        "\n",
        "# # Calculate RMSE\n",
        "# val_rmse = root_mean_squared_error(y_val_np, y_val_pred)\n",
        "# print(f\"Val RMSE: {val_rmse:.4f}\")"
      ]
    },
    {
      "cell_type": "code",
      "execution_count": null,
      "metadata": {
        "id": "JnloCkwP3hoj"
      },
      "outputs": [],
      "source": [
        "# def convert_to_classes(y_pred):\n",
        "\n",
        "#     y_pred_round = np.round(y_pred)\n",
        "#     y_pred_clip = np.clip(y_pred_round, 0, 5).astype(int)\n",
        "\n",
        "#     return y_pred_clip\n",
        "# # Calculate RMSE\n",
        "# y_val_pred = convert_to_classes(y_val_pred)\n",
        "# val_rmse = root_mean_squared_error(y_val_np, y_val_pred)\n",
        "# print(f\"Val RMSE: {val_rmse:.4f}\")"
      ]
    },
    {
      "cell_type": "code",
      "execution_count": null,
      "metadata": {
        "id": "v3LVdam_3hoj"
      },
      "outputs": [],
      "source": [
        "# # Feature scaling\n",
        "# scaler = StandardScaler()\n",
        "# X_train_full_scaled = scaler.fit_transform(X_train_full)\n",
        "# X_val_scaled = scaler.transform(X_val)\n",
        "\n",
        "# # Convert to NumPy arrays\n",
        "# X_train_full_scaled_np = np.array(X_train_full_scaled)\n",
        "# y_train_full_np = np.array(y_train_full)\n",
        "# X_val_scaled_np = np.array(X_val_scaled)\n",
        "# y_val_np = np.array(y_val)\n",
        "# y_test_pred = model.predict()\n",
        "# submission = pd.DataFrame({\n",
        "#     'id': test['id'],\n",
        "#     'price': y_test_pred\n",
        "#     })\n",
        "# submission.to_csv('submission.csv', index=False, header=['id', 'price'])"
      ]
    }
  ],
  "metadata": {
    "colab": {
      "collapsed_sections": [
        "kxd9w8wa3hod",
        "isatQtsV3hoe",
        "hjw5gK7O3hoe",
        "jildjIST3hof"
      ],
      "provenance": [],
      "toc_visible": true
    },
    "kernelspec": {
      "display_name": "Python 3",
      "name": "python3"
    },
    "language_info": {
      "codemirror_mode": {
        "name": "ipython",
        "version": 3
      },
      "file_extension": ".py",
      "mimetype": "text/x-python",
      "name": "python",
      "nbconvert_exporter": "python",
      "pygments_lexer": "ipython3",
      "version": "3.12.5"
    }
  },
  "nbformat": 4,
  "nbformat_minor": 0
}